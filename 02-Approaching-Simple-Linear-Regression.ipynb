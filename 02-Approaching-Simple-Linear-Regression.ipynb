{
 "cells": [
  {
   "cell_type": "markdown",
   "metadata": {},
   "source": [
    "- In the past, every input for a model would be mapped to a predetermined value\n",
    "    - Kind of like a dictionary"
   ]
  },
  {
   "cell_type": "markdown",
   "metadata": {},
   "source": [
    "- These days, software self-learns based on the set specifications"
   ]
  },
  {
   "cell_type": "markdown",
   "metadata": {},
   "source": [
    "- The field of *machine learning* was defined by Arthur Samuel as \"the field of study that gives computers the ability to learn without being **explicitly programmed**\""
   ]
  },
  {
   "cell_type": "markdown",
   "metadata": {},
   "source": [
    "- Applications of ML:\n",
    "    - Face recognition\n",
    "    - Search engines\n",
    "    - Spam filters\n",
    "    - Recommendations (e.g. Spotify)"
   ]
  },
  {
   "cell_type": "markdown",
   "metadata": {},
   "source": [
    "### Supervised learning\n",
    "\n",
    "- We provide labeled examples to the algorithm\n",
    "    - E.g. predicting the sale price of a home based on past sales data\n",
    "\n",
    "### Unsupervised learning\n",
    "\n",
    "- We provide data, but without the outcomes\n",
    "    - E.g. trying to find a good way to group different clusters in a database\n",
    "    \n",
    "### Reinforcement learning\n",
    "\n",
    "- Let the algo try to learn on its own, but let it react to its own errors\n",
    "    - E.g. robot teaching itself to walk"
   ]
  },
  {
   "cell_type": "markdown",
   "metadata": {},
   "source": [
    "- In data science, the most important technique is **supervised learning**\n",
    "    - Given what we observed in the past, we want to be able to predict the likely outcome of a situation"
   ]
  },
  {
   "cell_type": "markdown",
   "metadata": {},
   "source": [
    "- We call the outcome that we want to predict the **target variable**\n",
    "    - The real value is labeled $y$\n",
    "        - The predicted value is labeled $\\hat{y}$"
   ]
  },
  {
   "cell_type": "markdown",
   "metadata": {},
   "source": [
    "- The inputs to the model are called **predictive variables**\n",
    "    - They are labeled $X$"
   ]
  },
  {
   "cell_type": "markdown",
   "metadata": {},
   "source": [
    "- $n$ denotes the sample size (i.e. the number of observations), and $p$ denotes number of predictive variables in the model"
   ]
  },
  {
   "cell_type": "markdown",
   "metadata": {},
   "source": [
    "- Therefore $y$ is a column vector of length $n$ and $X$ is an $n$x$p$ dimensional matrix"
   ]
  },
  {
   "cell_type": "markdown",
   "metadata": {},
   "source": [
    "- When we think we've derived a good function to explain the transformation from $X$ to $y$, we call this function a **hypothesis**"
   ]
  },
  {
   "cell_type": "markdown",
   "metadata": {},
   "source": [
    "- We can never be 100% confident about the full range of associations between $X$ and $y$\n",
    "\n",
    "- Reasons:\n",
    "    1. We're looking at a sample of the data, meaning that if we have some **sampling bias**, our model will include this bias\n",
    "    2. Maybe an event has never happened before, so **no matter how good our data is, we'll never know that it's possible**"
   ]
  },
  {
   "cell_type": "markdown",
   "metadata": {},
   "source": [
    "- There's not much we can do for reason 2\n",
    "    - We can **fix the first reason by taking bigger samples**"
   ]
  },
  {
   "cell_type": "markdown",
   "metadata": {},
   "source": [
    "### Batches\n",
    "\n",
    "- The large samples of historical data that we use to train the model"
   ]
  },
  {
   "cell_type": "markdown",
   "metadata": {},
   "source": [
    "- Sometimes, we trim the data ahead of the model training so it's more representative of the environment in which we're making our predictions\n",
    "    - This is called **active learning**"
   ]
  },
  {
   "cell_type": "markdown",
   "metadata": {},
   "source": [
    "- We don't always know which predictive variables to use\n",
    "    - We can loop through the different combinations in our dataset to figure out the right predictors"
   ]
  },
  {
   "cell_type": "markdown",
   "metadata": {},
   "source": [
    "- Typically, more data is better\n",
    "    - More varibles to choose from"
   ]
  },
  {
   "cell_type": "markdown",
   "metadata": {},
   "source": [
    "- We classify our predictive variables as either:\n",
    "    1. Physical measurements\n",
    "    2. Human measurements"
   ]
  },
  {
   "cell_type": "markdown",
   "metadata": {},
   "source": [
    "### Physical measurements\n",
    "\n",
    "- Always good since they're naturally numerical\n",
    "\n",
    "#### Two types\n",
    "\n",
    "1. Interval variables\n",
    "    - has **arbitrary zero**\n",
    "        - E.g. Temperature in celsius\n",
    "            - 0 degrees C is not the lowest the value can go\n",
    "\n",
    "2. Ratio variables\n",
    "    - has **natural zero**"
   ]
  },
  {
   "cell_type": "markdown",
   "metadata": {},
   "source": [
    "### Human measurements\n",
    "\n",
    "- Not ideal\n",
    "- Can be converted into **rank values**\n",
    "\n",
    "#### Oridinal variables\n",
    "\n",
    "- No natural zero\n",
    "    - The space between values is not consistent\n",
    "    \n",
    "- E.g. consider the ordinal values {bad, average, good}\n",
    "    - We assign bad = 1, average = 2, good = 3\n",
    "        - **Is the distance (i.e. difference in quality) between 1 and 2 the same as between 2 and 3?**"
   ]
  },
  {
   "cell_type": "markdown",
   "metadata": {},
   "source": [
    "- Both physical measurements and human measurements are classified as **quantitative measurements**"
   ]
  },
  {
   "cell_type": "markdown",
   "metadata": {},
   "source": [
    "### Important data questions\n",
    "\n",
    "1. Is the **quality** of the data good?\n",
    "2. Is the **quantity** of the data sufficient?\n",
    "3. Is the **time period** of the data appropriate?"
   ]
  },
  {
   "cell_type": "markdown",
   "metadata": {},
   "source": [
    "____\n",
    "\n",
    "### Response variables\n",
    "\n",
    "- Two types:\n",
    "    1. Quantitative variable\n",
    "        - E.g. Height of son based on height of father\n",
    "        - This is a *regression problem*\n",
    "    2. Qualitative variable\n",
    "        - E.g. Will a student be accepted to a prestigious university\n",
    "        - This is a *classification problem*"
   ]
  },
  {
   "cell_type": "markdown",
   "metadata": {},
   "source": [
    "#### Biggest problems for response variables\n",
    "\n",
    "1. Measurement errors in the data\n",
    "2. Biases in the data\n",
    "\n",
    "- Won't accurately predict future outcomes"
   ]
  },
  {
   "cell_type": "markdown",
   "metadata": {},
   "source": [
    "____\n",
    "\n",
    "### The family of linear models\n",
    "\n",
    "- Called a linear model since **the response variable can be expressed as a linear combination of the predictive variables**\n",
    "\n",
    "- The family of linear models is called the **Generalized Linear Model**\n",
    "\n",
    "- These models are used to solve the **two most basic problems in data science:**\n",
    "    1. Regression\n",
    "    2. Classification"
   ]
  },
  {
   "cell_type": "markdown",
   "metadata": {},
   "source": [
    "#### Simple linear regression\n",
    "\n",
    "- Most basic of the GLMs\n",
    "\n",
    "### $\\hat{y} = \\beta_{0} + \\beta_{1}X_{1}$"
   ]
  },
  {
   "cell_type": "markdown",
   "metadata": {},
   "source": [
    "_____\n",
    "\n",
    "## Datasets\n",
    "\n",
    "### 1. *Hedonic Housing Prices and the Demand for Clean Air*\n",
    "\n",
    "- 506 census tracts of Boston from the 1970 census\n",
    "- 21 predictive variables\n",
    "- Target variable is the median monetary value of the houses\n",
    "\n",
    "### 2. *1990 US Census Data*\n",
    "\n",
    "- 20,640 observations from the 1990 US Census\n",
    "    - Each observation represents a block group\n",
    "        - This is a group of 1,425 individuals living in a geographically compact area\n",
    "- 9 predictive variables\n",
    "- Target variable is the log of the median house value"
   ]
  },
  {
   "cell_type": "code",
   "execution_count": 13,
   "metadata": {},
   "outputs": [],
   "source": [
    "import numpy as np\n",
    "import pandas as pd\n",
    "import matplotlib.pyplot as plt\n",
    "%matplotlib inline\n",
    "plt.rcParams['figure.figsize'] = 10, 10\n",
    "from scipy.stats.stats import pearsonr\n",
    "from sklearn.datasets import load_boston"
   ]
  },
  {
   "cell_type": "code",
   "execution_count": 2,
   "metadata": {},
   "outputs": [],
   "source": [
    "boston = load_boston()\n",
    "df = pd.DataFrame(boston.data, columns = boston.feature_names)\n",
    "df['Target'] = boston.target"
   ]
  },
  {
   "cell_type": "markdown",
   "metadata": {},
   "source": [
    "**Persisting the data**"
   ]
  },
  {
   "cell_type": "code",
   "execution_count": 9,
   "metadata": {},
   "outputs": [],
   "source": [
    "df.to_csv('data/housing.csv')"
   ]
  },
  {
   "cell_type": "markdown",
   "metadata": {},
   "source": [
    "## We can calculate the mean, then calculate the squared error of each row's target value from the mean"
   ]
  },
  {
   "cell_type": "code",
   "execution_count": 3,
   "metadata": {},
   "outputs": [
    {
     "data": {
      "text/plain": [
       "22.532806324110698"
      ]
     },
     "execution_count": 3,
     "metadata": {},
     "output_type": "execute_result"
    }
   ],
   "source": [
    "target_mean = df['Target'].mean()\n",
    "target_mean"
   ]
  },
  {
   "cell_type": "code",
   "execution_count": 4,
   "metadata": {},
   "outputs": [],
   "source": [
    "mse_array = (df['Target']-target_mean)**2"
   ]
  },
  {
   "cell_type": "code",
   "execution_count": 8,
   "metadata": {},
   "outputs": [
    {
     "data": {
      "text/plain": [
       "<matplotlib.axes._subplots.AxesSubplot at 0x2e66f6abf28>"
      ]
     },
     "execution_count": 8,
     "metadata": {},
     "output_type": "execute_result"
    },
    {
     "data": {
      "image/png": "[encoded data removed]",
      "text/plain": [
       "<Figure size 720x720 with 1 Axes>"
      ]
     },
     "metadata": {},
     "output_type": "display_data"
    }
   ],
   "source": [
    "mse_array.hist()"
   ]
  },
  {
   "cell_type": "markdown",
   "metadata": {},
   "source": [
    "### We can see from this plot that most `MEDV` values are close to the mean"
   ]
  },
  {
   "cell_type": "markdown",
   "metadata": {},
   "source": [
    "### We know intuitively that a bigger house is more expensive\n",
    "\n",
    "### Let's look into the correlation between house size and our target variable"
   ]
  },
  {
   "cell_type": "markdown",
   "metadata": {},
   "source": [
    "## First, we consider Covariance:\n",
    "\n",
    "# $Cov(X,Y) = E[XY]-E[X]E[Y] = \\frac{\\sum(x-\\bar{x})(y-\\bar{y})}{n}$"
   ]
  },
  {
   "cell_type": "markdown",
   "metadata": {},
   "source": [
    "## From the Covariance, we can derive the Correlation as:\n",
    "\n",
    "# $Corr(X,Y) = \\frac{Cov(X,Y)}{\\sigma_{X}\\sigma_{Y}}$"
   ]
  },
  {
   "cell_type": "markdown",
   "metadata": {},
   "source": [
    "### We can calculate the correlation between `RM` and `MEDV` a couple ways\n",
    "\n",
    "**First way**"
   ]
  },
  {
   "cell_type": "code",
   "execution_count": 6,
   "metadata": {},
   "outputs": [
    {
     "data": {
      "text/plain": [
       "0.6939857179270819"
      ]
     },
     "execution_count": 6,
     "metadata": {},
     "output_type": "execute_result"
    }
   ],
   "source": [
    "E_X, sigma_X = df['RM'].mean(), df['RM'].std()\n",
    "E_Y, sigma_Y = df['Target'].mean(), df['Target'].std()\n",
    "E_XY = (df['RM']*df['Target']).mean()\n",
    "\n",
    "covariance = E_XY - E_X*E_Y\n",
    "correlation = covariance/(sigma_X*sigma_Y)\n",
    "correlation"
   ]
  },
  {
   "cell_type": "markdown",
   "metadata": {},
   "source": [
    "**Second way**"
   ]
  },
  {
   "cell_type": "code",
   "execution_count": 11,
   "metadata": {},
   "outputs": [
    {
     "data": {
      "text/plain": [
       "0.6939857179271289"
      ]
     },
     "execution_count": 11,
     "metadata": {},
     "output_type": "execute_result"
    }
   ],
   "source": [
    "covariance = ((df['RM'] - E_X)*(df['Target'] - E_Y)).mean()\n",
    "correlation = covariance/(sigma_X*sigma_Y)\n",
    "correlation"
   ]
  },
  {
   "cell_type": "markdown",
   "metadata": {},
   "source": [
    "**Third way**"
   ]
  },
  {
   "cell_type": "code",
   "execution_count": 12,
   "metadata": {},
   "outputs": [
    {
     "data": {
      "text/html": [
       "<div>\n",
       "<style scoped>\n",
       "    .dataframe tbody tr th:only-of-type {\n",
       "        vertical-align: middle;\n",
       "    }\n",
       "\n",
       "    .dataframe tbody tr th {\n",
       "        vertical-align: top;\n",
       "    }\n",
       "\n",
       "    .dataframe thead th {\n",
       "        text-align: right;\n",
       "    }\n",
       "</style>\n",
       "<table border=\"1\" class=\"dataframe\">\n",
       "  <thead>\n",
       "    <tr style=\"text-align: right;\">\n",
       "      <th></th>\n",
       "      <th>RM</th>\n",
       "      <th>Target</th>\n",
       "    </tr>\n",
       "  </thead>\n",
       "  <tbody>\n",
       "    <tr>\n",
       "      <th>RM</th>\n",
       "      <td>1.00000</td>\n",
       "      <td>0.69536</td>\n",
       "    </tr>\n",
       "    <tr>\n",
       "      <th>Target</th>\n",
       "      <td>0.69536</td>\n",
       "      <td>1.00000</td>\n",
       "    </tr>\n",
       "  </tbody>\n",
       "</table>\n",
       "</div>"
      ],
      "text/plain": [
       "             RM   Target\n",
       "RM      1.00000  0.69536\n",
       "Target  0.69536  1.00000"
      ]
     },
     "execution_count": 12,
     "metadata": {},
     "output_type": "execute_result"
    }
   ],
   "source": [
    "df[['RM','Target']].corr()"
   ]
  },
  {
   "cell_type": "markdown",
   "metadata": {},
   "source": [
    "**Fourth way**"
   ]
  },
  {
   "cell_type": "code",
   "execution_count": 14,
   "metadata": {},
   "outputs": [
    {
     "data": {
      "text/plain": [
       "(0.6953599470715393, 2.487228871008295e-74)"
      ]
     },
     "execution_count": 14,
     "metadata": {},
     "output_type": "execute_result"
    }
   ],
   "source": [
    "pearsonr(df['RM'], df['Target'])"
   ]
  },
  {
   "cell_type": "markdown",
   "metadata": {},
   "source": [
    "## We can see how `RM` compares to the target variable using a scatter plot"
   ]
  },
  {
   "cell_type": "code",
   "execution_count": 21,
   "metadata": {},
   "outputs": [
    {
     "data": {
      "text/plain": [
       "<matplotlib.lines.Line2D at 0x2e671587a20>"
      ]
     },
     "execution_count": 21,
     "metadata": {},
     "output_type": "execute_result"
    },
    {
     "data": {
      "image/png": "[encoded data removed]",
      "text/plain": [
       "<Figure size 720x720 with 1 Axes>"
      ]
     },
     "metadata": {},
     "output_type": "display_data"
    }
   ],
   "source": [
    "df.plot.scatter(x = 'RM', y = 'Target')\n",
    "plt.axhline(df['Target'].mean(), ls = 'dashed', color = 'r')\n",
    "plt.axvline(df['RM'].mean(), ls = 'dashed', color = 'g')"
   ]
  },
  {
   "cell_type": "markdown",
   "metadata": {},
   "source": [
    "### The dotted lines split the chart into 4 quadrants\n",
    "\n",
    "## This shows why our correlation value was so high - the majority of the points are in the top right and bottom left quadrants"
   ]
  },
  {
   "cell_type": "markdown",
   "metadata": {},
   "source": [
    "### If correlation was equal to one, all points would lie along a diagonal line\n",
    "\n",
    "### This means that a linear increase in the value of the predictor variable leads to a linear increase in the target variable\n",
    "\n",
    "## In other words, correlation is a measurement of the *linear* relationship between two variables"
   ]
  }
 ],
 "metadata": {
  "kernelspec": {
   "display_name": "Python 3",
   "language": "python",
   "name": "python3"
  },
  "language_info": {
   "codemirror_mode": {
    "name": "ipython",
    "version": 3
   },
   "file_extension": ".py",
   "mimetype": "text/x-python",
   "name": "python",
   "nbconvert_exporter": "python",
   "pygments_lexer": "ipython3",
   "version": "3.6.5"
  }
 },
 "nbformat": 4,
 "nbformat_minor": 2
}
