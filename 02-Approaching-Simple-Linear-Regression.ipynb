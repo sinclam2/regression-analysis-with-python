{
 "cells": [
  {
   "cell_type": "markdown",
   "metadata": {},
   "source": [
    "- In the past, every input for a model would be mapped to a predetermined value\n",
    "    - Kind of like a dictionary"
   ]
  },
  {
   "cell_type": "markdown",
   "metadata": {},
   "source": [
    "- These days, software self-learns based on the set specifications"
   ]
  },
  {
   "cell_type": "markdown",
   "metadata": {},
   "source": [
    "- The field of *machine learning* was defined by Arthur Samuel as \"the field of study that gives computers the ability to learn without being **explicitly programmed**\""
   ]
  },
  {
   "cell_type": "markdown",
   "metadata": {},
   "source": [
    "- Applications of ML:\n",
    "    - Face recognition\n",
    "    - Search engines\n",
    "    - Spam filters\n",
    "    - Recommendations (e.g. Spotify)"
   ]
  },
  {
   "cell_type": "markdown",
   "metadata": {},
   "source": [
    "### Supervised learning\n",
    "\n",
    "- We provide labeled examples to the algorithm\n",
    "    - E.g. predicting the sale price of a home based on past sales data\n",
    "\n",
    "### Unsupervised learning\n",
    "\n",
    "- We provide data, but without the outcomes\n",
    "    - E.g. trying to find a good way to group different clusters in a database\n",
    "    \n",
    "### Reinforcement learning\n",
    "\n",
    "- Let the algo try to learn on its own, but let it react to its own errors\n",
    "    - E.g. robot teaching itself to walk"
   ]
  },
  {
   "cell_type": "markdown",
   "metadata": {},
   "source": [
    "- In data science, the most important technique is **supervised learning**\n",
    "    - Given what we observed in the past, we want to be able to predict the likely outcome of a situation"
   ]
  },
  {
   "cell_type": "markdown",
   "metadata": {},
   "source": [
    "- We call the outcome that we want to predict the **target variable**\n",
    "    - The real value is labeled $y$\n",
    "        - The predicted value is labeled $\\hat{y}$"
   ]
  },
  {
   "cell_type": "markdown",
   "metadata": {},
   "source": [
    "- The inputs to the model are called **predictive variables**\n",
    "    - They are labeled $X$"
   ]
  },
  {
   "cell_type": "markdown",
   "metadata": {},
   "source": [
    "- $n$ denotes the sample size (i.e. the number of observations), and $p$ denotes number of predictive variables in the model"
   ]
  },
  {
   "cell_type": "markdown",
   "metadata": {},
   "source": [
    "- Therefore $y$ is a column vector of length $n$ and $X$ is an $n$x$p$ dimensional matrix"
   ]
  },
  {
   "cell_type": "markdown",
   "metadata": {},
   "source": [
    "- When we think we've derived a good function to explain the transformation from $X$ to $y$, we call this function a **hypothesis**"
   ]
  },
  {
   "cell_type": "markdown",
   "metadata": {},
   "source": [
    "- We can never be 100% confident about the full range of associations between $X$ and $y$\n",
    "\n",
    "- Reasons:\n",
    "    1. We're looking at a sample of the data, meaning that if we have some **sampling bias**, our model will include this bias\n",
    "    2. Maybe an event has never happened before, so **no matter how good our data is, we'll never know that it's possible**"
   ]
  },
  {
   "cell_type": "markdown",
   "metadata": {},
   "source": [
    "- There's not much we can do for reason 2\n",
    "    - We can **fix the first reason by taking bigger samples**"
   ]
  },
  {
   "cell_type": "markdown",
   "metadata": {},
   "source": [
    "### Batches\n",
    "\n",
    "- The large samples of historical data that we use to train the model"
   ]
  },
  {
   "cell_type": "markdown",
   "metadata": {},
   "source": [
    "- Sometimes, we trim the data ahead of the model training so it's more representative of the environment in which we're making our predictions\n",
    "    - This is called **active learning**"
   ]
  },
  {
   "cell_type": "markdown",
   "metadata": {},
   "source": [
    "- We don't always know which predictive variables to use\n",
    "    - We can loop through the different combinations in our dataset to figure out the right predictors"
   ]
  },
  {
   "cell_type": "markdown",
   "metadata": {},
   "source": [
    "- Typically, more data is better\n",
    "    - More varibles to choose from"
   ]
  },
  {
   "cell_type": "markdown",
   "metadata": {},
   "source": [
    "- We classify our predictive variables as either:\n",
    "    1. Physical measurements\n",
    "    2. Human measurements"
   ]
  },
  {
   "cell_type": "markdown",
   "metadata": {},
   "source": [
    "### Physical measurements\n",
    "\n",
    "- Always good since they're naturally numerical\n",
    "\n",
    "#### Two types\n",
    "\n",
    "1. Interval variables\n",
    "    - has **arbitrary zero**\n",
    "        - E.g. Temperature in celsius\n",
    "            - 0 degrees C is not the lowest the value can go\n",
    "\n",
    "2. Ratio variables\n",
    "    - has **natural zero**"
   ]
  },
  {
   "cell_type": "markdown",
   "metadata": {},
   "source": [
    "### Human measurements\n",
    "\n",
    "- Not ideal\n",
    "- Can be converted into **rank values**\n",
    "\n",
    "#### Oridinal variables\n",
    "\n",
    "- No natural zero\n",
    "    - The space between values is not consistent\n",
    "    \n",
    "- E.g. consider the ordinal values {bad, average, good}\n",
    "    - We assign bad = 1, average = 2, good = 3\n",
    "        - **Is the distance (i.e. difference in quality) between 1 and 2 the same as between 2 and 3?**"
   ]
  },
  {
   "cell_type": "markdown",
   "metadata": {},
   "source": [
    "- Both physical measurements and human measurements are classified as **quantitative measurements**"
   ]
  },
  {
   "cell_type": "markdown",
   "metadata": {},
   "source": [
    "### Important data questions\n",
    "\n",
    "1. Is the **quality** of the data good?\n",
    "2. Is the **quantity** of the data sufficient?\n",
    "3. Is the **time period** of the data appropriate?"
   ]
  },
  {
   "cell_type": "markdown",
   "metadata": {},
   "source": [
    "____\n",
    "\n",
    "### Response variables\n",
    "\n",
    "- Two types:\n",
    "    1. Quantitative variable\n",
    "        - E.g. Height of son based on height of father\n",
    "        - This is a *regression problem*\n",
    "    2. Qualitative variable\n",
    "        - E.g. Will a student be accepted to a prestigious university\n",
    "        - This is a *classification problem*"
   ]
  },
  {
   "cell_type": "markdown",
   "metadata": {},
   "source": [
    "#### Biggest problems for response variables\n",
    "\n",
    "1. Measurement errors in the data\n",
    "2. Biases in the data\n",
    "\n",
    "- Won't accurately predict future outcomes"
   ]
  },
  {
   "cell_type": "markdown",
   "metadata": {},
   "source": [
    "____\n",
    "\n",
    "### The family of linear models\n",
    "\n",
    "- Called a linear model since **the response variable can be expressed as a linear combination of the predictive variables**\n",
    "\n",
    "- The family of linear models is called the **Generalized Linear Model**\n",
    "\n",
    "- These models are used to solve the **two most basic problems in data science:**\n",
    "    1. Regression\n",
    "    2. Classification"
   ]
  },
  {
   "cell_type": "markdown",
   "metadata": {},
   "source": [
    "#### Simple linear regression\n",
    "\n",
    "- Most basic of the GLMs\n",
    "\n",
    "### $\\hat{y} = \\beta_{0} + \\beta_{1}X_{1}$"
   ]
  },
  {
   "cell_type": "code",
   "execution_count": null,
   "metadata": {},
   "outputs": [],
   "source": []
  }
 ],
 "metadata": {
  "kernelspec": {
   "display_name": "Python 3",
   "language": "python",
   "name": "python3"
  },
  "language_info": {
   "codemirror_mode": {
    "name": "ipython",
    "version": 3
   },
   "file_extension": ".py",
   "mimetype": "text/x-python",
   "name": "python",
   "nbconvert_exporter": "python",
   "pygments_lexer": "ipython3",
   "version": "3.6.4"
  }
 },
 "nbformat": 4,
 "nbformat_minor": 2
}
