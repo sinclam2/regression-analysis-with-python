{
 "cells": [
  {
   "cell_type": "markdown",
   "metadata": {},
   "source": [
    "- In the past, every input for a model would be mapped to a predetermined value\n",
    "    - Kind of like a dictionary"
   ]
  },
  {
   "cell_type": "markdown",
   "metadata": {},
   "source": [
    "- These days, software self-learns based on the set specifications"
   ]
  },
  {
   "cell_type": "markdown",
   "metadata": {},
   "source": [
    "- The field of *machine learning* was defined by Arthur Samuel as \"the field of study that gives computers the ability to learn without being **explicitly programmed**\""
   ]
  },
  {
   "cell_type": "markdown",
   "metadata": {},
   "source": [
    "- Applications of ML:\n",
    "    - Face recognition\n",
    "    - Search engines\n",
    "    - Spam filters\n",
    "    - Recommendations (e.g. Spotify)"
   ]
  },
  {
   "cell_type": "markdown",
   "metadata": {},
   "source": [
    "### Supervised learning\n",
    "\n",
    "- We provide labeled examples to the algorithm\n",
    "    - E.g. predicting the sale price of a home based on past sales data\n",
    "\n",
    "### Unsupervised learning\n",
    "\n",
    "- We provide data, but without the outcomes\n",
    "    - E.g. trying to find a good way to group different clusters in a database\n",
    "    \n",
    "### Reinforcement learning\n",
    "\n",
    "- Let the algo try to learn on its own, but let it react to its own errors\n",
    "    - E.g. robot teaching itself to walk"
   ]
  },
  {
   "cell_type": "markdown",
   "metadata": {},
   "source": [
    "- In data science, the most important technique is **supervised learning**\n",
    "    - Given what we observed in the past, we want to be able to predict the likely outcome of a situation"
   ]
  },
  {
   "cell_type": "markdown",
   "metadata": {},
   "source": [
    "- We call the outcome that we want to predict the **target variable**\n",
    "    - The real value is labeled $y$\n",
    "        - The predicted value is labeled $\\hat{y}$"
   ]
  },
  {
   "cell_type": "markdown",
   "metadata": {},
   "source": [
    "- The inputs to the model are called **predictive variables**\n",
    "    - They are labeled $X$"
   ]
  },
  {
   "cell_type": "markdown",
   "metadata": {},
   "source": [
    "- $n$ denotes the sample size (i.e. the number of observations), and $p$ denotes number of predictive variables in the model"
   ]
  },
  {
   "cell_type": "markdown",
   "metadata": {},
   "source": [
    "- Therefore $y$ is a column vector of length $n$ and $X$ is an $n$x$p$ dimensional matrix"
   ]
  },
  {
   "cell_type": "markdown",
   "metadata": {},
   "source": [
    "- When we think we've derived a good function to explain the transformation from $X$ to $y$, we call this function a **hypothesis**"
   ]
  },
  {
   "cell_type": "markdown",
   "metadata": {},
   "source": [
    "- We can never be 100% confident about the full range of associations between $X$ and $y$\n",
    "\n",
    "- Reasons:\n",
    "    1. We're looking at a sample of the data, meaning that if we have some **sampling bias**, our model will include this bias\n",
    "    2. Maybe an event has never happened before, so **no matter how good our data is, we'll never know that it's possible**"
   ]
  },
  {
   "cell_type": "markdown",
   "metadata": {},
   "source": [
    "- There's not much we can do for reason 2\n",
    "    - We can **fix the first reason by taking bigger samples**"
   ]
  },
  {
   "cell_type": "markdown",
   "metadata": {},
   "source": [
    "### Batches\n",
    "\n",
    "- The large samples of historical data that we use to train the model"
   ]
  },
  {
   "cell_type": "markdown",
   "metadata": {},
   "source": [
    "- Sometimes, we trim the data ahead of the model training so it's more representative of the environment in which we're making our predictions\n",
    "    - This is called **active learning**"
   ]
  },
  {
   "cell_type": "markdown",
   "metadata": {},
   "source": [
    "- We don't always know which predictive variables to use\n",
    "    - We can loop through the different combinations in our dataset to figure out the right predictors"
   ]
  },
  {
   "cell_type": "markdown",
   "metadata": {},
   "source": [
    "- Typically, more data is better\n",
    "    - More varibles to choose from"
   ]
  },
  {
   "cell_type": "markdown",
   "metadata": {},
   "source": [
    "- We classify our predictive variables as either:\n",
    "    1. Physical measurements\n",
    "    2. Human measurements"
   ]
  },
  {
   "cell_type": "markdown",
   "metadata": {},
   "source": [
    "### Physical measurements\n",
    "\n",
    "- Always good since they're naturally numerical\n",
    "\n",
    "#### Two types\n",
    "\n",
    "1. Interval variables\n",
    "    - has **arbitrary zero**\n",
    "        - E.g. Temperature in celsius\n",
    "            - 0 degrees C is not the lowest the value can go\n",
    "\n",
    "2. Ratio variables\n",
    "    - has **natural zero**"
   ]
  },
  {
   "cell_type": "markdown",
   "metadata": {},
   "source": [
    "### Human measurements\n",
    "\n",
    "- Not ideal\n",
    "- Can be converted into **rank values**\n",
    "\n",
    "#### Oridinal variables\n",
    "\n",
    "- No natural zero\n",
    "    - The space between values is not consistent\n",
    "    \n",
    "- E.g. consider the ordinal values {bad, average, good}\n",
    "    - We assign bad = 1, average = 2, good = 3\n",
    "        - **Is the distance (i.e. difference in quality) between 1 and 2 the same as between 2 and 3?**"
   ]
  },
  {
   "cell_type": "markdown",
   "metadata": {},
   "source": [
    "- Both physical measurements and human measurements are classified as **quantitative measurements**"
   ]
  },
  {
   "cell_type": "markdown",
   "metadata": {},
   "source": [
    "### Important data questions\n",
    "\n",
    "1. Is the **quality** of the data good?\n",
    "2. Is the **quantity** of the data sufficient?\n",
    "3. Is the **time period** of the data appropriate?"
   ]
  },
  {
   "cell_type": "markdown",
   "metadata": {},
   "source": [
    "____\n",
    "\n",
    "### Response variables\n",
    "\n",
    "- Two types:\n",
    "    1. Quantitative variable\n",
    "        - E.g. Height of son based on height of father\n",
    "        - This is a *regression problem*\n",
    "    2. Qualitative variable\n",
    "        - E.g. Will a student be accepted to a prestigious university\n",
    "        - This is a *classification problem*"
   ]
  },
  {
   "cell_type": "markdown",
   "metadata": {},
   "source": [
    "#### Biggest problems for response variables\n",
    "\n",
    "1. Measurement errors in the data\n",
    "2. Biases in the data\n",
    "\n",
    "- Won't accurately predict future outcomes"
   ]
  },
  {
   "cell_type": "markdown",
   "metadata": {},
   "source": [
    "____\n",
    "\n",
    "### The family of linear models\n",
    "\n",
    "- Called a linear model since **the response variable can be expressed as a linear combination of the predictive variables**\n",
    "\n",
    "- The family of linear models is called the **Generalized Linear Model**\n",
    "\n",
    "- These models are used to solve the **two most basic problems in data science:**\n",
    "    1. Regression\n",
    "    2. Classification"
   ]
  },
  {
   "cell_type": "markdown",
   "metadata": {},
   "source": [
    "#### Simple linear regression\n",
    "\n",
    "- Most basic of the GLMs\n",
    "\n",
    "### $\\hat{y} = \\beta_{0} + \\beta_{1}X_{1}$"
   ]
  },
  {
   "cell_type": "markdown",
   "metadata": {},
   "source": [
    "_____\n",
    "\n",
    "## Datasets\n",
    "\n",
    "### 1. *Hedonic Housing Prices and the Demand for Clean Air*\n",
    "\n",
    "- 506 census tracts of Boston from the 1970 census\n",
    "- 21 predictive variables\n",
    "- Target variable is the median monetary value of the houses\n",
    "\n",
    "### 2. *1990 US Census Data*\n",
    "\n",
    "- 20,640 observations from the 1990 US Census\n",
    "    - Each observation represents a block group\n",
    "        - This is a group of 1,425 individuals living in a geographically compact area\n",
    "- 9 predictive variables\n",
    "- Target variable is the log of the median house value"
   ]
  },
  {
   "cell_type": "code",
   "execution_count": 1,
   "metadata": {},
   "outputs": [],
   "source": [
    "import numpy as np\n",
    "import pandas as pd\n",
    "import matplotlib.pyplot as plt\n",
    "%matplotlib inline\n",
    "from scipy.stats.stats import pearsonr\n",
    "from sklearn.datasets import load_boston"
   ]
  },
  {
   "cell_type": "code",
   "execution_count": 2,
   "metadata": {},
   "outputs": [],
   "source": [
    "plt.rcParams['figure.figsize'] = 10, 10"
   ]
  },
  {
   "cell_type": "code",
   "execution_count": 3,
   "metadata": {},
   "outputs": [],
   "source": [
    "boston = load_boston()\n",
    "df = pd.DataFrame(boston.data, columns = boston.feature_names)\n",
    "df['Target'] = boston.target"
   ]
  },
  {
   "cell_type": "markdown",
   "metadata": {},
   "source": [
    "**Persisting the data**"
   ]
  },
  {
   "cell_type": "code",
   "execution_count": 4,
   "metadata": {},
   "outputs": [],
   "source": [
    "df.to_csv('data/housing.csv')"
   ]
  },
  {
   "cell_type": "markdown",
   "metadata": {},
   "source": [
    "## We can calculate the mean, then calculate the squared error of each row's target value from the mean"
   ]
  },
  {
   "cell_type": "code",
   "execution_count": 5,
   "metadata": {},
   "outputs": [
    {
     "data": {
      "text/plain": [
       "22.532806324110698"
      ]
     },
     "execution_count": 5,
     "metadata": {},
     "output_type": "execute_result"
    }
   ],
   "source": [
    "target_mean = df['Target'].mean()\n",
    "target_mean"
   ]
  },
  {
   "cell_type": "code",
   "execution_count": 6,
   "metadata": {},
   "outputs": [],
   "source": [
    "se_array = (df['Target']-target_mean)**2"
   ]
  },
  {
   "cell_type": "code",
   "execution_count": 7,
   "metadata": {},
   "outputs": [
    {
     "data": {
      "text/plain": [
       "<matplotlib.axes._subplots.AxesSubplot at 0x28613fa99e8>"
      ]
     },
     "execution_count": 7,
     "metadata": {},
     "output_type": "execute_result"
    },
    {
     "data": {
      "image/png": "[encoded data removed]",
      "text/plain": [
       "<Figure size 720x720 with 1 Axes>"
      ]
     },
     "metadata": {},
     "output_type": "display_data"
    }
   ],
   "source": [
    "se_array.hist()"
   ]
  },
  {
   "cell_type": "markdown",
   "metadata": {},
   "source": [
    "### We can see from this plot that most `MEDV` values are close to the mean"
   ]
  },
  {
   "cell_type": "markdown",
   "metadata": {},
   "source": [
    "### We know intuitively that a bigger house is more expensive\n",
    "\n",
    "### Let's look into the correlation between house size and our target variable"
   ]
  },
  {
   "cell_type": "markdown",
   "metadata": {},
   "source": [
    "## First, we consider Covariance:\n",
    "\n",
    "# $Cov(X,Y) = E[XY]-E[X]E[Y] = \\frac{\\sum(x-\\bar{x})(y-\\bar{y})}{n}$"
   ]
  },
  {
   "cell_type": "markdown",
   "metadata": {},
   "source": [
    "## From the Covariance, we can derive the Correlation as:\n",
    "\n",
    "# $Corr(X,Y) = \\frac{Cov(X,Y)}{\\sigma_{X}\\sigma_{Y}}$"
   ]
  },
  {
   "cell_type": "markdown",
   "metadata": {},
   "source": [
    "### We can calculate the correlation between `RM` and `MEDV` a couple ways\n",
    "\n",
    "**First way**"
   ]
  },
  {
   "cell_type": "code",
   "execution_count": 8,
   "metadata": {},
   "outputs": [
    {
     "data": {
      "text/plain": [
       "0.6939857179270819"
      ]
     },
     "execution_count": 8,
     "metadata": {},
     "output_type": "execute_result"
    }
   ],
   "source": [
    "E_X, sigma_X = df['RM'].mean(), df['RM'].std()\n",
    "E_Y, sigma_Y = df['Target'].mean(), df['Target'].std()\n",
    "E_XY = (df['RM']*df['Target']).mean()\n",
    "\n",
    "covariance = E_XY - E_X*E_Y\n",
    "correlation = covariance/(sigma_X*sigma_Y)\n",
    "correlation"
   ]
  },
  {
   "cell_type": "markdown",
   "metadata": {},
   "source": [
    "**Second way**"
   ]
  },
  {
   "cell_type": "code",
   "execution_count": 9,
   "metadata": {},
   "outputs": [
    {
     "data": {
      "text/plain": [
       "0.6939857179271289"
      ]
     },
     "execution_count": 9,
     "metadata": {},
     "output_type": "execute_result"
    }
   ],
   "source": [
    "covariance = ((df['RM'] - E_X)*(df['Target'] - E_Y)).mean()\n",
    "correlation = covariance/(sigma_X*sigma_Y)\n",
    "correlation"
   ]
  },
  {
   "cell_type": "markdown",
   "metadata": {},
   "source": [
    "**Third way**"
   ]
  },
  {
   "cell_type": "code",
   "execution_count": 10,
   "metadata": {},
   "outputs": [
    {
     "data": {
      "text/html": [
       "<div>\n",
       "<style scoped>\n",
       "    .dataframe tbody tr th:only-of-type {\n",
       "        vertical-align: middle;\n",
       "    }\n",
       "\n",
       "    .dataframe tbody tr th {\n",
       "        vertical-align: top;\n",
       "    }\n",
       "\n",
       "    .dataframe thead th {\n",
       "        text-align: right;\n",
       "    }\n",
       "</style>\n",
       "<table border=\"1\" class=\"dataframe\">\n",
       "  <thead>\n",
       "    <tr style=\"text-align: right;\">\n",
       "      <th></th>\n",
       "      <th>RM</th>\n",
       "      <th>Target</th>\n",
       "    </tr>\n",
       "  </thead>\n",
       "  <tbody>\n",
       "    <tr>\n",
       "      <th>RM</th>\n",
       "      <td>1.00000</td>\n",
       "      <td>0.69536</td>\n",
       "    </tr>\n",
       "    <tr>\n",
       "      <th>Target</th>\n",
       "      <td>0.69536</td>\n",
       "      <td>1.00000</td>\n",
       "    </tr>\n",
       "  </tbody>\n",
       "</table>\n",
       "</div>"
      ],
      "text/plain": [
       "             RM   Target\n",
       "RM      1.00000  0.69536\n",
       "Target  0.69536  1.00000"
      ]
     },
     "execution_count": 10,
     "metadata": {},
     "output_type": "execute_result"
    }
   ],
   "source": [
    "df[['RM','Target']].corr()"
   ]
  },
  {
   "cell_type": "markdown",
   "metadata": {},
   "source": [
    "**Fourth way**"
   ]
  },
  {
   "cell_type": "code",
   "execution_count": 11,
   "metadata": {},
   "outputs": [
    {
     "data": {
      "text/plain": [
       "(0.6953599470715393, 2.487228871008295e-74)"
      ]
     },
     "execution_count": 11,
     "metadata": {},
     "output_type": "execute_result"
    }
   ],
   "source": [
    "pearsonr(df['RM'], df['Target'])"
   ]
  },
  {
   "cell_type": "markdown",
   "metadata": {},
   "source": [
    "## We can see how `RM` compares to the target variable using a scatter plot"
   ]
  },
  {
   "cell_type": "code",
   "execution_count": 12,
   "metadata": {},
   "outputs": [
    {
     "data": {
      "text/plain": [
       "<matplotlib.lines.Line2D at 0x28613e9eb00>"
      ]
     },
     "execution_count": 12,
     "metadata": {},
     "output_type": "execute_result"
    },
    {
     "data": {
      "image/png": "[encoded data removed]",
      "text/plain": [
       "<Figure size 720x720 with 1 Axes>"
      ]
     },
     "metadata": {},
     "output_type": "display_data"
    }
   ],
   "source": [
    "df.plot.scatter(x = 'RM', y = 'Target')\n",
    "plt.axhline(df['Target'].mean(), ls = 'dashed', color = 'r')\n",
    "plt.axvline(df['RM'].mean(), ls = 'dashed', color = 'g')"
   ]
  },
  {
   "cell_type": "markdown",
   "metadata": {},
   "source": [
    "### The dotted lines split the chart into 4 quadrants\n",
    "\n",
    "## This shows why our correlation value was so high - the majority of the points are in the top right and bottom left quadrants"
   ]
  },
  {
   "cell_type": "markdown",
   "metadata": {},
   "source": [
    "### If correlation was equal to one, all points would lie along a diagonal line\n",
    "\n",
    "### This means that a linear increase in the value of the predictor variable leads to a linear increase in the target variable\n",
    "\n",
    "## In other words, correlation is a measurement of the *linear* relationship between two variables"
   ]
  },
  {
   "cell_type": "markdown",
   "metadata": {},
   "source": [
    "______\n",
    "\n",
    "# Extending to linear regression"
   ]
  },
  {
   "cell_type": "markdown",
   "metadata": {},
   "source": [
    "### By fitting a linear regression to the data, we derive the line through the data that's as close as possible to all the points"
   ]
  },
  {
   "cell_type": "markdown",
   "metadata": {},
   "source": [
    "### To define the line of best fit, we'll need an intercept denoted $\\beta_{0}$ and a slope $\\beta_{1}$"
   ]
  },
  {
   "cell_type": "code",
   "execution_count": 13,
   "metadata": {},
   "outputs": [],
   "source": [
    "import statsmodels.api as sm"
   ]
  },
  {
   "cell_type": "code",
   "execution_count": 14,
   "metadata": {},
   "outputs": [],
   "source": [
    "y = df['Target']\n",
    "X = df['RM']\n",
    "#need to add a constant for the intercept\n",
    "X = sm.add_constant(X)"
   ]
  },
  {
   "cell_type": "code",
   "execution_count": 15,
   "metadata": {},
   "outputs": [
    {
     "data": {
      "text/html": [
       "<div>\n",
       "<style scoped>\n",
       "    .dataframe tbody tr th:only-of-type {\n",
       "        vertical-align: middle;\n",
       "    }\n",
       "\n",
       "    .dataframe tbody tr th {\n",
       "        vertical-align: top;\n",
       "    }\n",
       "\n",
       "    .dataframe thead th {\n",
       "        text-align: right;\n",
       "    }\n",
       "</style>\n",
       "<table border=\"1\" class=\"dataframe\">\n",
       "  <thead>\n",
       "    <tr style=\"text-align: right;\">\n",
       "      <th></th>\n",
       "      <th>const</th>\n",
       "      <th>RM</th>\n",
       "    </tr>\n",
       "  </thead>\n",
       "  <tbody>\n",
       "    <tr>\n",
       "      <th>0</th>\n",
       "      <td>1.0</td>\n",
       "      <td>6.575</td>\n",
       "    </tr>\n",
       "    <tr>\n",
       "      <th>1</th>\n",
       "      <td>1.0</td>\n",
       "      <td>6.421</td>\n",
       "    </tr>\n",
       "    <tr>\n",
       "      <th>2</th>\n",
       "      <td>1.0</td>\n",
       "      <td>7.185</td>\n",
       "    </tr>\n",
       "    <tr>\n",
       "      <th>3</th>\n",
       "      <td>1.0</td>\n",
       "      <td>6.998</td>\n",
       "    </tr>\n",
       "    <tr>\n",
       "      <th>4</th>\n",
       "      <td>1.0</td>\n",
       "      <td>7.147</td>\n",
       "    </tr>\n",
       "  </tbody>\n",
       "</table>\n",
       "</div>"
      ],
      "text/plain": [
       "   const     RM\n",
       "0    1.0  6.575\n",
       "1    1.0  6.421\n",
       "2    1.0  7.185\n",
       "3    1.0  6.998\n",
       "4    1.0  7.147"
      ]
     },
     "execution_count": 15,
     "metadata": {},
     "output_type": "execute_result"
    }
   ],
   "source": [
    "X.head()"
   ]
  },
  {
   "cell_type": "code",
   "execution_count": 16,
   "metadata": {},
   "outputs": [],
   "source": [
    "linear_regression = sm.OLS(y,X)\n",
    "fitted_model = linear_regression.fit()"
   ]
  },
  {
   "cell_type": "code",
   "execution_count": 17,
   "metadata": {},
   "outputs": [
    {
     "data": {
      "text/plain": [
       "const   -34.670621\n",
       "RM        9.102109\n",
       "dtype: float64"
      ]
     },
     "execution_count": 17,
     "metadata": {},
     "output_type": "execute_result"
    }
   ],
   "source": [
    "fitted_model.params"
   ]
  },
  {
   "cell_type": "markdown",
   "metadata": {},
   "source": [
    "## From this, we can see that our model is defined as:\n",
    "\n",
    "# $\\left (\\text{Estimated Target Value} \\right ) = -34.671 + 9.10211\\left (\\text{RM Value} \\right )$\n",
    "\n",
    "## In other words, $\\beta_{0}=-34.670621$ and $\\beta_{1} = 9.102109$"
   ]
  },
  {
   "cell_type": "markdown",
   "metadata": {},
   "source": [
    "### Now, we look at the summary of our model"
   ]
  },
  {
   "cell_type": "code",
   "execution_count": 18,
   "metadata": {},
   "outputs": [
    {
     "data": {
      "text/html": [
       "<table class=\"simpletable\">\n",
       "<caption>OLS Regression Results</caption>\n",
       "<tr>\n",
       "  <th>Dep. Variable:</th>         <td>Target</td>      <th>  R-squared:         </th> <td>   0.484</td>\n",
       "</tr>\n",
       "<tr>\n",
       "  <th>Model:</th>                   <td>OLS</td>       <th>  Adj. R-squared:    </th> <td>   0.483</td>\n",
       "</tr>\n",
       "<tr>\n",
       "  <th>Method:</th>             <td>Least Squares</td>  <th>  F-statistic:       </th> <td>   471.8</td>\n",
       "</tr>\n",
       "<tr>\n",
       "  <th>Date:</th>             <td>Mon, 30 Jul 2018</td> <th>  Prob (F-statistic):</th> <td>2.49e-74</td>\n",
       "</tr>\n",
       "<tr>\n",
       "  <th>Time:</th>                 <td>17:57:10</td>     <th>  Log-Likelihood:    </th> <td> -1673.1</td>\n",
       "</tr>\n",
       "<tr>\n",
       "  <th>No. Observations:</th>      <td>   506</td>      <th>  AIC:               </th> <td>   3350.</td>\n",
       "</tr>\n",
       "<tr>\n",
       "  <th>Df Residuals:</th>          <td>   504</td>      <th>  BIC:               </th> <td>   3359.</td>\n",
       "</tr>\n",
       "<tr>\n",
       "  <th>Df Model:</th>              <td>     1</td>      <th>                     </th>     <td> </td>   \n",
       "</tr>\n",
       "<tr>\n",
       "  <th>Covariance Type:</th>      <td>nonrobust</td>    <th>                     </th>     <td> </td>   \n",
       "</tr>\n",
       "</table>\n",
       "<table class=\"simpletable\">\n",
       "<tr>\n",
       "    <td></td>       <th>coef</th>     <th>std err</th>      <th>t</th>      <th>P>|t|</th>  <th>[0.025</th>    <th>0.975]</th>  \n",
       "</tr>\n",
       "<tr>\n",
       "  <th>const</th> <td>  -34.6706</td> <td>    2.650</td> <td>  -13.084</td> <td> 0.000</td> <td>  -39.877</td> <td>  -29.465</td>\n",
       "</tr>\n",
       "<tr>\n",
       "  <th>RM</th>    <td>    9.1021</td> <td>    0.419</td> <td>   21.722</td> <td> 0.000</td> <td>    8.279</td> <td>    9.925</td>\n",
       "</tr>\n",
       "</table>\n",
       "<table class=\"simpletable\">\n",
       "<tr>\n",
       "  <th>Omnibus:</th>       <td>102.585</td> <th>  Durbin-Watson:     </th> <td>   0.684</td> \n",
       "</tr>\n",
       "<tr>\n",
       "  <th>Prob(Omnibus):</th> <td> 0.000</td>  <th>  Jarque-Bera (JB):  </th> <td> 612.449</td> \n",
       "</tr>\n",
       "<tr>\n",
       "  <th>Skew:</th>          <td> 0.726</td>  <th>  Prob(JB):          </th> <td>1.02e-133</td>\n",
       "</tr>\n",
       "<tr>\n",
       "  <th>Kurtosis:</th>      <td> 8.190</td>  <th>  Cond. No.          </th> <td>    58.4</td> \n",
       "</tr>\n",
       "</table><br/><br/>Warnings:<br/>[1] Standard Errors assume that the covariance matrix of the errors is correctly specified."
      ],
      "text/plain": [
       "<class 'statsmodels.iolib.summary.Summary'>\n",
       "\"\"\"\n",
       "                            OLS Regression Results                            \n",
       "==============================================================================\n",
       "Dep. Variable:                 Target   R-squared:                       0.484\n",
       "Model:                            OLS   Adj. R-squared:                  0.483\n",
       "Method:                 Least Squares   F-statistic:                     471.8\n",
       "Date:                Mon, 30 Jul 2018   Prob (F-statistic):           2.49e-74\n",
       "Time:                        17:57:10   Log-Likelihood:                -1673.1\n",
       "No. Observations:                 506   AIC:                             3350.\n",
       "Df Residuals:                     504   BIC:                             3359.\n",
       "Df Model:                           1                                         \n",
       "Covariance Type:            nonrobust                                         \n",
       "==============================================================================\n",
       "                 coef    std err          t      P>|t|      [0.025      0.975]\n",
       "------------------------------------------------------------------------------\n",
       "const        -34.6706      2.650    -13.084      0.000     -39.877     -29.465\n",
       "RM             9.1021      0.419     21.722      0.000       8.279       9.925\n",
       "==============================================================================\n",
       "Omnibus:                      102.585   Durbin-Watson:                   0.684\n",
       "Prob(Omnibus):                  0.000   Jarque-Bera (JB):              612.449\n",
       "Skew:                           0.726   Prob(JB):                    1.02e-133\n",
       "Kurtosis:                       8.190   Cond. No.                         58.4\n",
       "==============================================================================\n",
       "\n",
       "Warnings:\n",
       "[1] Standard Errors assume that the covariance matrix of the errors is correctly specified.\n",
       "\"\"\""
      ]
     },
     "execution_count": 18,
     "metadata": {},
     "output_type": "execute_result"
    }
   ],
   "source": [
    "fitted_model.summary()"
   ]
  },
  {
   "cell_type": "markdown",
   "metadata": {},
   "source": [
    "____\n",
    "\n",
    "# Glossary\n",
    "\n",
    "## *Table 1*\n",
    "\n",
    "### Dep. Variable\n",
    "\n",
    "- This tells us what we set as the target variable\n",
    "    - i.e. the value we're trying to predict\n",
    "    \n",
    "### Model\n",
    "\n",
    "- This tells us the type of model that we have fitted\n",
    "\n",
    "### Method\n",
    "\n",
    "- This tells us the way the parameters were fitted\n",
    "\n",
    "### No. Observations\n",
    "\n",
    "- This tells us the number of observations used in the calculation\n",
    "\n",
    "### DF Residuals\n",
    "\n",
    "- This tells us the degrees of freedom for the residuals\n",
    "    - **Note**: residuals means the difference between the predicted value and the actual value\n",
    "        - i.e. the distance between the point and the line\n",
    "        \n",
    "- **This is calculated as:** $\\left (\\text{No. Observations} \\right ) - \\left ( \\text{Number of Parameters} \\right )$\n",
    "    - Since we have the coefficient and RM, we have two parameters\n",
    "        \n",
    "### DF Model\n",
    "\n",
    "- The number of **non-intercept** parameters that the model is estimating\n",
    "\n",
    "## *Table 2*\n",
    "\n",
    "### R-squared\n",
    "\n",
    "- This is the **coefficient of determination**\n",
    "    - It tells us the predictive power of the model\n",
    "- The idea is that it tells us how much of the variability is accounted for\n",
    "    - Therefore, since our R-squared value is less than 0.5, our model explains less than half of what's going on\n",
    "    \n",
    "### Adj. R-squared\n",
    "\n",
    "- This is just another version of the R-squared value that accounts for:\n",
    "    1. The number of parameters\n",
    "    2. The number of observations\n",
    "    \n",
    "### F-statistic\n",
    "\n",
    "- This tells us how much better our model is than just predicting that the Target it equal to its mean\n",
    "\n",
    "### Prob (F-statistic)\n",
    "\n",
    "- This tells us the likelihood of randomly getting the F-statistic that we got\n",
    "    - This is like the p-value for hypothesis testing\n",
    "    \n",
    "    \n",
    "### AIC\n",
    "\n",
    "- This is the *Alkaline Information Criterion* which tells us how complicated our model is\n",
    "\n",
    "- The lower the AIC score, the better (since we always prefer simpler models)\n",
    "\n",
    "- This metric comes in handy when comparing different models\n",
    "\n",
    "### BIC\n",
    "\n",
    "- This is the *Bayesian Information Criterion* which is similar to the AIC\n",
    "    - **Difference**: higher penalty for too many parameters"
   ]
  },
  {
   "cell_type": "markdown",
   "metadata": {},
   "source": [
    "## Many of these terms make more sense for a multiple regression\n",
    "\n",
    "## For the simple linear regression, we'll focus on the R-squared and F-statistic values"
   ]
  },
  {
   "cell_type": "markdown",
   "metadata": {},
   "source": [
    "- This F-statistic isn't super helpful if:\n",
    "    1. We have enough observations\n",
    "    2. We know our predictor variable and target variable are correlated"
   ]
  },
  {
   "cell_type": "markdown",
   "metadata": {},
   "source": [
    "- Our Target variable has a wide variety of possible values\n",
    "    - The R-squared statistic tells us how much of the difference between two Target values is explained by their different predictor values\n",
    "    \n",
    "- E.g. if one house is worth twice as much as another, 49% of that difference is probably explained by the fact that the second house is three times the size"
   ]
  },
  {
   "cell_type": "markdown",
   "metadata": {},
   "source": [
    "# The R-squared statistic is calculated as:\n",
    "\n",
    "# $R^{2} = 1-\\frac{SSE_{Regression}}{SSE_{Total}}$"
   ]
  },
  {
   "cell_type": "markdown",
   "metadata": {},
   "source": [
    "## Earlier, we calculated the $SSE_{Total}$ value"
   ]
  },
  {
   "cell_type": "code",
   "execution_count": 19,
   "metadata": {},
   "outputs": [
    {
     "data": {
      "text/plain": [
       "42716.29541501976"
      ]
     },
     "execution_count": 19,
     "metadata": {},
     "output_type": "execute_result"
    }
   ],
   "source": [
    "SSE_total = se_array.sum()\n",
    "SSE_total"
   ]
  },
  {
   "cell_type": "markdown",
   "metadata": {},
   "source": [
    "## To calculate the $SSE_{Regression}$ value, we take the difference between the observed value and the predicted value"
   ]
  },
  {
   "cell_type": "code",
   "execution_count": 20,
   "metadata": {},
   "outputs": [
    {
     "data": {
      "text/plain": [
       "22061.8791962118"
      ]
     },
     "execution_count": 20,
     "metadata": {},
     "output_type": "execute_result"
    }
   ],
   "source": [
    "predicted_array = -34.670621+df['RM']*9.102109\n",
    "se_regression_array = (predicted_array-df['Target'])**2\n",
    "SSE_regression = se_regression_array.sum()\n",
    "SSE_regression"
   ]
  },
  {
   "cell_type": "code",
   "execution_count": 21,
   "metadata": {},
   "outputs": [
    {
     "data": {
      "text/plain": [
       "0.483525455991334"
      ]
     },
     "execution_count": 21,
     "metadata": {},
     "output_type": "execute_result"
    }
   ],
   "source": [
    "R_squared = 1-SSE_regression/SSE_total\n",
    "R_squared"
   ]
  },
  {
   "cell_type": "markdown",
   "metadata": {},
   "source": [
    "## We can also calculate the R-squared value as the square of the correlation between the variables"
   ]
  },
  {
   "cell_type": "code",
   "execution_count": 22,
   "metadata": {},
   "outputs": [
    {
     "data": {
      "text/plain": [
       "0.4835254559913339"
      ]
     },
     "execution_count": 22,
     "metadata": {},
     "output_type": "execute_result"
    }
   ],
   "source": [
    "(pearsonr(df['RM'], df['Target']))[0]**2"
   ]
  },
  {
   "cell_type": "markdown",
   "metadata": {},
   "source": [
    "### If you reduce the R-squared value to 0, you can explain all the variance in the target variable"
   ]
  },
  {
   "cell_type": "markdown",
   "metadata": {},
   "source": [
    "## *Table 3*\n",
    "\n",
    "### coef\n",
    "\n",
    "- The estimated beta values for the model\n",
    "\n",
    "### std err\n",
    "\n",
    "- The standard errors for each beta value\n",
    "    - This tells us how confident we are in our estimates\n",
    "        - The smaller the better\n",
    "\n",
    "### t\n",
    "\n",
    "- The t-statistic for the betas\n",
    "    - Tells us how sure we are that the values aren't zero\n",
    "    \n",
    "### P > |t|\n",
    "\n",
    "- The p-value for the t-statistics\n",
    "\n",
    "### [95% Conf. Interval]\n",
    "\n",
    "- The upper and lower bounds for the 95% confidence interval around the betas"
   ]
  },
  {
   "cell_type": "markdown",
   "metadata": {},
   "source": [
    "- For a data science persective, we care more about whether or not our regression is working that what the t-statistic is\n",
    "    - We focus mostly on:\n",
    "        1. The coef values\n",
    "        2. The std err values"
   ]
  },
  {
   "cell_type": "markdown",
   "metadata": {},
   "source": [
    "___\n",
    "\n",
    "### So, in the coef column of our simple regression, we had:"
   ]
  },
  {
   "cell_type": "markdown",
   "metadata": {},
   "source": [
    "### `const  = -34.6706`\n",
    "\n",
    "### `RM  = 9.1021`"
   ]
  },
  {
   "cell_type": "markdown",
   "metadata": {},
   "source": [
    "### This means that we can express our target variable i.e. the price of the home as:\n",
    "\n",
    "$$\n",
    "\\hat{y} = -34.6706 + 9.1021\\cdot RM\n",
    "$$"
   ]
  },
  {
   "cell_type": "markdown",
   "metadata": {},
   "source": [
    "- We can see that if we increase the predictor variable by 1, the target variable will increase by 9.1021"
   ]
  },
  {
   "cell_type": "markdown",
   "metadata": {},
   "source": [
    "- Also, we note that if $RM$ is equal to 1 or 2, our $\\hat{y}$ value will be -25.57 or -16.4664\n",
    "    - **But how can we have negative home prices?**"
   ]
  },
  {
   "cell_type": "markdown",
   "metadata": {},
   "source": [
    "- Clearly, this is not possible, but **the reason our model has this property is because of the data it was trained on**"
   ]
  },
  {
   "cell_type": "code",
   "execution_count": 23,
   "metadata": {},
   "outputs": [
    {
     "data": {
      "text/html": [
       "<div>\n",
       "<style scoped>\n",
       "    .dataframe tbody tr th:only-of-type {\n",
       "        vertical-align: middle;\n",
       "    }\n",
       "\n",
       "    .dataframe tbody tr th {\n",
       "        vertical-align: top;\n",
       "    }\n",
       "\n",
       "    .dataframe thead th {\n",
       "        text-align: right;\n",
       "    }\n",
       "</style>\n",
       "<table border=\"1\" class=\"dataframe\">\n",
       "  <thead>\n",
       "    <tr style=\"text-align: right;\">\n",
       "      <th></th>\n",
       "      <th>RM</th>\n",
       "    </tr>\n",
       "  </thead>\n",
       "  <tbody>\n",
       "    <tr>\n",
       "      <th>count</th>\n",
       "      <td>506.000000</td>\n",
       "    </tr>\n",
       "    <tr>\n",
       "      <th>mean</th>\n",
       "      <td>6.284634</td>\n",
       "    </tr>\n",
       "    <tr>\n",
       "      <th>std</th>\n",
       "      <td>0.702617</td>\n",
       "    </tr>\n",
       "    <tr>\n",
       "      <th>min</th>\n",
       "      <td>3.561000</td>\n",
       "    </tr>\n",
       "    <tr>\n",
       "      <th>25%</th>\n",
       "      <td>5.885500</td>\n",
       "    </tr>\n",
       "    <tr>\n",
       "      <th>50%</th>\n",
       "      <td>6.208500</td>\n",
       "    </tr>\n",
       "    <tr>\n",
       "      <th>75%</th>\n",
       "      <td>6.623500</td>\n",
       "    </tr>\n",
       "    <tr>\n",
       "      <th>max</th>\n",
       "      <td>8.780000</td>\n",
       "    </tr>\n",
       "  </tbody>\n",
       "</table>\n",
       "</div>"
      ],
      "text/plain": [
       "               RM\n",
       "count  506.000000\n",
       "mean     6.284634\n",
       "std      0.702617\n",
       "min      3.561000\n",
       "25%      5.885500\n",
       "50%      6.208500\n",
       "75%      6.623500\n",
       "max      8.780000"
      ]
     },
     "execution_count": 23,
     "metadata": {},
     "output_type": "execute_result"
    }
   ],
   "source": [
    "df[['RM']].describe()"
   ]
  },
  {
   "cell_type": "markdown",
   "metadata": {},
   "source": [
    "- As we can see, the smallest $RM$ value in the training data was 3.561 and the largest was 8.78"
   ]
  },
  {
   "cell_type": "markdown",
   "metadata": {},
   "source": [
    "- When we try to predict for a value that was outside the training set, we can get wacky results\n",
    "    - The model learns from what it sees"
   ]
  },
  {
   "cell_type": "markdown",
   "metadata": {},
   "source": [
    "#### Interpolation\n",
    "\n",
    "- Using the model to predict from a value **inside** the training set\n",
    "\n",
    "#### Extrapolation\n",
    "\n",
    "- Using the model to predict from a value **outside** the training set"
   ]
  },
  {
   "cell_type": "markdown",
   "metadata": {},
   "source": [
    "### The standard error value tells us a lot about how strong the relationship is between the predictor and the target\n",
    "\n",
    "- We calculate the ratio\n",
    "\n",
    "$$\n",
    "\\frac{std.err_{i}}{\\beta_{i}}\n",
    "$$\n",
    "\n",
    "- If this value is **greater than 0.5**, we know that the relationship **is weak**"
   ]
  },
  {
   "cell_type": "markdown",
   "metadata": {},
   "source": [
    "- The best way to reduce the standard error is to take a **bigger sample** i.e. train the model on more observations\n",
    "    - There are other ways too (e.g. removing redundant variables, etc.) that'll be discussed later"
   ]
  },
  {
   "cell_type": "markdown",
   "metadata": {},
   "source": [
    "______\n",
    "\n",
    "## *Table 4*"
   ]
  },
  {
   "cell_type": "markdown",
   "metadata": {},
   "source": [
    "- Now we finally look at the analysis of the residuals"
   ]
  },
  {
   "cell_type": "markdown",
   "metadata": {},
   "source": [
    "### Omnibus\n",
    "\n",
    "- This test combines **skewness** and **kurtosis** (described below)\n",
    "\n",
    "### Prob(Omnibus)\n",
    "\n",
    "- This is essentially a p-value for the observed Omnibus metric\n",
    "\n",
    "### Skew\n",
    "\n",
    "- This measures how **asymmetrical** the distribution of residuals are around the mean\n",
    "    - We want the skew to be zero\n",
    "        - If the skew is positive, it means that the data has a long right tail\n",
    "        - If the skew is negative, a long left tail\n",
    "        \n",
    "### Kurtosis\n",
    "\n",
    "- This measure how *normal* the residuals are\n",
    "    - A **positive** kurtosis means that the distribution of errors is *pointy*\n",
    "    - A **positive** kurtosis means that the distribution of errors is *rounder*\n",
    "    \n",
    "### Durbin-Watson\n",
    "\n",
    "- This measure tells us whether residuals are correlated\n",
    "    - i.e. if residuals get bigger or smaller over time\n",
    "    \n",
    "### Jarque-Berra (JB)\n",
    "\n",
    "- Like the Omnibus measure, this measure combines skewness and kurtosis\n",
    "\n",
    "### Prob(JB)\n",
    "\n",
    "- This gives the p-value for the JB statistic\n",
    "\n",
    "### Cond. No.\n",
    "\n",
    "- This measure tests for multicollinearity\n",
    "    - This measure isn't relevant wihen we only have one predictor"
   ]
  },
  {
   "cell_type": "markdown",
   "metadata": {},
   "source": [
    "_______\n",
    "\n",
    "## *Who cares about the residuals?*\n",
    "\n",
    "- It's important to study the residuals from our model to **check if there's something fishy with the data**\n",
    "\n",
    "- If the model is a good predictor, then the discrepancies between model predictions and the observed values (i.e. where the model thinks the target should be vs. where it actually was) **should be random**\n",
    "    - ***But what if they're not random?***\n",
    "        - Then that means there is some trend in the residuals\n",
    "            - This could mean that the model is getting worse (or better) as the predictor increases\n",
    "\n",
    "## *What to look for when analyzing the residuals?*\n",
    "\n",
    "### 1. Values that are too far from the average\n",
    "\n",
    "- This suggests that the model isn't great at predicting the target variable\n",
    "    - Removing a small chunk of the data may lead to a drastically different model\n",
    "\n",
    "- We'll give an example of this for an arbitrary model below"
   ]
  },
  {
   "cell_type": "code",
   "execution_count": 24,
   "metadata": {},
   "outputs": [
    {
     "data": {
      "image/png": "[encoded data removed]",
      "text/plain": [
       "<Figure size 720x720 with 1 Axes>"
      ]
     },
     "metadata": {},
     "output_type": "display_data"
    }
   ],
   "source": [
    "x = np.arange(100)\n",
    "y = 0.5 + 0.1*x\n",
    "residuals1 = np.random.normal(loc = 0, scale = 1, size = x.size)\n",
    "noise = np.random.choice((x.size-10)*[0]+5*[10]+5*[-10], size = x.size, replace = False)\n",
    "residuals2 = 1.1*(residuals1 + noise)\n",
    "\n",
    "plt.plot(x, y, label = 'Model')\n",
    "plt.scatter(x, y+residuals1, label = 'Small Residuals')\n",
    "plt.scatter(x+0.5, y+residuals2, label = 'Small Residuals with big outliers')\n",
    "plt.title('Problem 1: Values that are too far from the average')\n",
    "plt.legend()\n",
    "plt.show()"
   ]
  },
  {
   "cell_type": "markdown",
   "metadata": {},
   "source": [
    "- As we can see from the chart above, the model is far more accurate for the Small Residuals than the Large Residuals"
   ]
  },
  {
   "cell_type": "markdown",
   "metadata": {},
   "source": [
    "### 2. Increasing/decreasing residuals\n",
    "\n",
    "- If the residuals show a trend vs. the predictor varaible, then we know that the model is not working properly"
   ]
  },
  {
   "cell_type": "code",
   "execution_count": 25,
   "metadata": {},
   "outputs": [
    {
     "data": {
      "image/png": "[encoded data removed]",
      "text/plain": [
       "<Figure size 720x720 with 1 Axes>"
      ]
     },
     "metadata": {},
     "output_type": "display_data"
    }
   ],
   "source": [
    "x = np.arange(100)\n",
    "y = 0.5 + 0.1*x\n",
    "residuals1 = np.random.normal(loc = 0, scale = 3, size = x.size)\n",
    "residuals2 = residuals1*y\n",
    "\n",
    "plt.plot(x, y, label = 'Model')\n",
    "plt.scatter(x, y+residuals1, label = 'Random Residuals')\n",
    "plt.scatter(x, y+residuals2, label = 'Increasing Variance Residuals')\n",
    "plt.title('Problem 2: Increasing/decreasing residuals')\n",
    "plt.legend()\n",
    "plt.show()"
   ]
  },
  {
   "cell_type": "markdown",
   "metadata": {},
   "source": [
    "- As we can see on the chart above, the residuals flare outwards like a trumpet"
   ]
  },
  {
   "cell_type": "markdown",
   "metadata": {},
   "source": [
    "### 3. Strange shapes in residual clouds\n",
    "\n",
    "- If there are weird clusters in the residuals, it usually means that the model doesn't include enough predictor variables to accurately model the target's behaviour"
   ]
  },
  {
   "cell_type": "code",
   "execution_count": 26,
   "metadata": {},
   "outputs": [
    {
     "data": {
      "image/png": "[encoded data removed]",
      "text/plain": [
       "<Figure size 720x720 with 1 Axes>"
      ]
     },
     "metadata": {},
     "output_type": "display_data"
    }
   ],
   "source": [
    "x = np.arange(100)\n",
    "y = 0.5 + 0.1*x\n",
    "residuals1 = np.random.normal(loc = 0, scale = 3, size = x.size)\n",
    "residuals2 = 2*np.abs(residuals1)*((-1)**(x//20))\n",
    "\n",
    "plt.plot(x, y, label = 'Model')\n",
    "plt.scatter(x, y+residuals1, label = 'Random Residuals')\n",
    "plt.scatter(x, y+residuals2, label = 'Strange Clustered Residuals')\n",
    "plt.title('Problem 3: Strange shapes in residual clouds')\n",
    "\n",
    "for x in np.arange(5):\n",
    "    plt.axvline(x*20, c = 'r', ls = 'dashed')\n",
    "\n",
    "plt.legend()\n",
    "plt.show()"
   ]
  },
  {
   "cell_type": "markdown",
   "metadata": {},
   "source": [
    "- As we can see from the chart above, the clustered residuals seem to flip signs periodically\n",
    "    - I.e. notice that all the points between the dashed red lines are on the same side of the blue trend line"
   ]
  },
  {
   "cell_type": "markdown",
   "metadata": {},
   "source": [
    "_____\n",
    "\n",
    "## Let's look at the residuals for the model we've built"
   ]
  },
  {
   "cell_type": "code",
   "execution_count": 27,
   "metadata": {},
   "outputs": [],
   "source": [
    "predicted_values = fitted_model.params['const'] + fitted_model.params['RM']*df['RM']\n",
    "residuals = df['Target'] - predicted_values\n",
    "normalized_residuals = (residuals - residuals.mean())/residuals.std()"
   ]
  },
  {
   "cell_type": "code",
   "execution_count": 28,
   "metadata": {},
   "outputs": [
    {
     "data": {
      "image/png": "[encoded data removed]",
      "text/plain": [
       "<Figure size 720x720 with 1 Axes>"
      ]
     },
     "metadata": {},
     "output_type": "display_data"
    }
   ],
   "source": [
    "plt.scatter(df['RM'].values, normalized_residuals.values)\n",
    "plt.axhline(0, ls = 'dashed', c = 'r')\n",
    "plt.xlabel('RM')\n",
    "plt.ylabel('Z score of residual')\n",
    "plt.show()"
   ]
  },
  {
   "cell_type": "markdown",
   "metadata": {},
   "source": [
    "## *Which problems does our chart show?*\n",
    "\n",
    "#### There are some pretty extreme outliers\n",
    "\n",
    "- Some of the values are more than 4 standard deviations away\n",
    "    - These outliers are likely having a big impact on our model\n",
    "    \n",
    "#### The residuals don't look random\n",
    "\n",
    "- Between 5-7, the variance is much smaller than outside the range"
   ]
  },
  {
   "cell_type": "markdown",
   "metadata": {},
   "source": [
    "_______\n",
    "\n",
    "# Correlation is not causation"
   ]
  },
  {
   "cell_type": "markdown",
   "metadata": {},
   "source": [
    "## Types of Causation\n",
    "\n",
    "### 1. Direct Causation\n",
    "\n",
    "- This is when we know that **x causes y**\n",
    "    - E.g. the size of a home *causes* the home to be more valuable\n",
    "    \n",
    "### 2. Reciprocal Effects\n",
    "\n",
    "- This is when **x causes y, but x is also influenced by y**\n",
    "    - E.g. A high crime rate in the neighborhood of a home can decrease its value, but it's also unlikely that a neighborhood with high priced homes will have a high crime rate\n",
    "        - Therefore, higher crime rates cause house prices to be lower, but *high house prices also limits (thus influences) how high the crime rate can get in a neighborhood*\n",
    "        - Similarly, crime rates increase, then housing prices may decrease leading to a further increase in crime\n",
    "            - This is a sort of **feedback loop**"
   ]
  },
  {
   "cell_type": "markdown",
   "metadata": {},
   "source": [
    "### 3. Spurious Causation\n",
    "\n",
    "- This is when **it looks like x causes y, but in reality some other variable z causes both x and y**\n",
    "    - E.g. it may look like *having many art galleries and nice restaurants cause house prices to increase, when the reality is that affluent residents cause an increase in both art galleries and nice restaurants, as well as housing prices*\n",
    "    \n",
    "![](images/spurious_correlation.png)"
   ]
  },
  {
   "cell_type": "markdown",
   "metadata": {},
   "source": [
    "### 4. Indirect Causation\n",
    "\n",
    "- This is when **it looks like x causes y, but in reality x causes some other variable z, which then causes y**\n",
    "    - E.g. a government decides to increase the tax rate to invest in local infrastructure\n",
    "        - When the project is completed, neighborhoods with improved infrastructure see an increase in housing prices\n",
    "            - Therefore, *increased tax rates indirectly caused housing prices to increase*\n",
    "    \n",
    "![](images/indirect_causation.PNG)"
   ]
  },
  {
   "cell_type": "markdown",
   "metadata": {},
   "source": [
    "### 5. Conditional Effect\n",
    "\n",
    "- This is when **x causes y, but only is specific conditions**\n",
    "    - Also known as **situation interaction**\n",
    "    - E.g. if the crime rate in a neighborhood is low, then more schools increases housing prices\n",
    "        - If the crime rate is high, the number of schools doesn't really affect housing prices\n",
    "            - Therefore, *the number of schools causes housing prices to increase, conditional on crime rates being low*"
   ]
  },
  {
   "cell_type": "markdown",
   "metadata": {},
   "source": [
    "### 6. Random Effect\n",
    "\n",
    "- This is when **any correlation calculated from the data is a MISTAKE**\n",
    "    - E.g. see chart below\n",
    "    \n",
    "![](images/chart.png)"
   ]
  },
  {
   "cell_type": "markdown",
   "metadata": {},
   "source": [
    "- Obviously, the best case scenario is when the variables have a direct causation relationship\n",
    "    - Usually not the case, however\n",
    "\n",
    "- Reciprocal effects are **most common for econometric models**\n",
    "    - Often requires special types of regression analysis\n",
    "    - These variables should be left in the analysis\n",
    "    \n",
    "- Spurious and indirect causes will add noise to the model\n",
    "    - The best solution is usually to take a larger sample size\n",
    "\n",
    "- Conditional effects, when not controlled for, can limit a model's predictive power\n",
    "    - There are ways to automate the data check process for these effects\n",
    "    \n",
    "- Random effects are the worst thing for model accuracy, but they are easily avoided using processes described in later chapters"
   ]
  },
  {
   "cell_type": "markdown",
   "metadata": {},
   "source": [
    "______\n",
    "\n",
    "# Predicting with the regression model"
   ]
  },
  {
   "cell_type": "markdown",
   "metadata": {},
   "source": [
    "- Above, we predicted the housing prices using the code:\n",
    "\n",
    "### `predicted_values = fitted_model.params['const'] + fitted_model.params['RM']*df['RM']`"
   ]
  },
  {
   "cell_type": "markdown",
   "metadata": {},
   "source": [
    "- Alternatively, we could have used\n",
    "\n",
    "### `intercept_array = np.ones(len(df))`\n",
    "\n",
    "### `RM_array = df['RM'].values`\n",
    "\n",
    "### `value_array = np.stack([intercept_array, RM_array], axis = 1)`\n",
    "\n",
    "### `predicted_array = fitted_model.predict(value_array)`"
   ]
  },
  {
   "cell_type": "code",
   "execution_count": 31,
   "metadata": {},
   "outputs": [],
   "source": [
    "intercept_array = np.ones(len(df))\n",
    "RM_array = df['RM'].values\n",
    "value_array = np.stack([coefficient_array, RM_array], axis = 1)\n",
    "predicted_array = fitted_model.predict(value_array)"
   ]
  },
  {
   "cell_type": "markdown",
   "metadata": {},
   "source": [
    "- To show that these are the same..."
   ]
  },
  {
   "cell_type": "code",
   "execution_count": 32,
   "metadata": {},
   "outputs": [
    {
     "data": {
      "text/plain": [
       "0.0"
      ]
     },
     "execution_count": 32,
     "metadata": {},
     "output_type": "execute_result"
    }
   ],
   "source": [
    "(predicted_values - predicted_array).sum()"
   ]
  },
  {
   "cell_type": "markdown",
   "metadata": {},
   "source": [
    "____\n",
    "\n",
    "# Regressing with scikit-learn\n",
    "\n",
    "- Instead of using statsmodels, we can use scikit-learn for our regression"
   ]
  },
  {
   "cell_type": "code",
   "execution_count": 33,
   "metadata": {},
   "outputs": [],
   "source": [
    "from sklearn import linear_model"
   ]
  },
  {
   "cell_type": "code",
   "execution_count": 34,
   "metadata": {},
   "outputs": [],
   "source": [
    "linear_regression = linear_model.LinearRegression(normalize=False, fit_intercept=True)"
   ]
  },
  {
   "cell_type": "code",
   "execution_count": 38,
   "metadata": {},
   "outputs": [
    {
     "data": {
      "text/plain": [
       "LinearRegression(copy_X=True, fit_intercept=True, n_jobs=1, normalize=False)"
      ]
     },
     "execution_count": 38,
     "metadata": {},
     "output_type": "execute_result"
    }
   ],
   "source": [
    "linear_regression.fit(df['RM'].values[:, np.newaxis], df['Target'].values)"
   ]
  },
  {
   "cell_type": "code",
   "execution_count": 39,
   "metadata": {},
   "outputs": [
    {
     "data": {
      "text/plain": [
       "(array([9.10210898]), -34.67062077643857)"
      ]
     },
     "execution_count": 39,
     "metadata": {},
     "output_type": "execute_result"
    }
   ],
   "source": [
    "linear_regression.coef_, linear_regression.intercept_"
   ]
  },
  {
   "cell_type": "markdown",
   "metadata": {},
   "source": [
    "- **As we can see, the beta and intercept values are the same as those calculated using statsmodels**"
   ]
  },
  {
   "cell_type": "code",
   "execution_count": 40,
   "metadata": {},
   "outputs": [
    {
     "data": {
      "text/plain": [
       "const   -34.670621\n",
       "RM        9.102109\n",
       "dtype: float64"
      ]
     },
     "execution_count": 40,
     "metadata": {},
     "output_type": "execute_result"
    }
   ],
   "source": [
    "fitted_model.params"
   ]
  }
 ],
 "metadata": {
  "kernelspec": {
   "display_name": "Python 3",
   "language": "python",
   "name": "python3"
  },
  "language_info": {
   "codemirror_mode": {
    "name": "ipython",
    "version": 3
   },
   "file_extension": ".py",
   "mimetype": "text/x-python",
   "name": "python",
   "nbconvert_exporter": "python",
   "pygments_lexer": "ipython3",
   "version": "3.6.5"
  }
 },
 "nbformat": 4,
 "nbformat_minor": 2
}
