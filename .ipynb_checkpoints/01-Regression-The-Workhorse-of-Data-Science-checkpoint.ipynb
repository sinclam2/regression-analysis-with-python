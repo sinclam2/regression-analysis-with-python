{
 "cells": [
  {
   "cell_type": "markdown",
   "metadata": {},
   "source": [
    "## Misc. notes from the chapter"
   ]
  },
  {
   "cell_type": "markdown",
   "metadata": {},
   "source": [
    "- If a linear model is trained with the right data, it'll be as accurate as the most complex AI algorithm\n",
    "    - Additionally, it'll be easier to implement and understand"
   ]
  },
  {
   "cell_type": "markdown",
   "metadata": {},
   "source": [
    "- It's very common that we need an app that cannot be defined programmatically\n",
    "    - Instead, we need to *learn from the data*\n",
    "        - E.g. Facebook's targeted ads"
   ]
  },
  {
   "cell_type": "markdown",
   "metadata": {},
   "source": [
    "- Traditionally, we couldn't create these types of models because:\n",
    "    1. We didn't have the technology to make it feasible\n",
    "    2. We didn't have the kind of data required\n",
    "    \n",
    "- Now, **data is the new oil of the economy**"
   ]
  },
  {
   "cell_type": "markdown",
   "metadata": {},
   "source": [
    "- Challenges:\n",
    "    1. Data is often unstructured, or dirty\n",
    "    2. We need to figure out what parts of the data are actually telling us something, and what's useless\n",
    "    3. We need to use the data to make predicitons\n",
    "    4. We need to be able to communicate the insights from the predictions without using technical language\n",
    "    5. We need to be able to make real-time predictions"
   ]
  },
  {
   "cell_type": "markdown",
   "metadata": {},
   "source": [
    "- The *Data Science Method*\n",
    "    1. Come up with different hypthotheses\n",
    "    2. Figure out which hypothesis best explains what's going on"
   ]
  },
  {
   "cell_type": "markdown",
   "metadata": {},
   "source": [
    "- Each problem requires special consideration\n",
    "    - There is no \"silver bullet\" that works across the board\n",
    "- It's important to keep in mind that each model is an approximation\n",
    "    - How good a model is depends on how effective it is at predicting outcomes\n",
    "        - It's impossible to know this up front"
   ]
  },
  {
   "cell_type": "markdown",
   "metadata": {},
   "source": [
    "- Models should follow the principle of Occam's Razor\n",
    "    - If two models are equally effective, but one is simpler $\\implies$ use the simpler one"
   ]
  },
  {
   "cell_type": "markdown",
   "metadata": {},
   "source": [
    "### Linear Model\n",
    "\n",
    "- This describes a model with a continuous response variable and one or more predictor variables\n",
    "    - All relationships are linear\n",
    "    \n",
    "#### 1. Simple Linear Regression Model\n",
    "\n",
    "- This describes a linear model with a single predictor variable\n",
    "\n",
    "### $ \\hat{Y} = \\beta_{0} + \\beta_{1}X_{1}$\n",
    "\n",
    "- E.g. $\\left (\\text{Predicted Snowfall In Jan Year T} \\right ) = 1.15 + 0.25\\left (\\text{Snowfall In Jan Year T-1} \\right )$\n",
    "\n",
    "#### 2. Multiple Linear Regression Model\n",
    "\n",
    "- This desribes a linear model with more than one predictor variable\n",
    "\n",
    "### $ \\hat{Y} = \\beta_{0} + \\beta_{1}X_{1}+\\beta_{2}X_{2}$\n",
    "\n",
    "- E.g. $\\left (\\text{Predicted Snowfall In Jan Year T} \\right ) = 1.15 + 0.25\\left (\\text{Snowfall In Jan Year T-1} \\right )+ 0.85\\left (\\text{Snowfall In Dec Year T-1} \\right )$"
   ]
  },
  {
   "cell_type": "markdown",
   "metadata": {},
   "source": [
    "### Multiple Model\n",
    "\n",
    "- This describes a model with a continuous response variable and one or more predictor variables\n",
    "    - All relationships are **not necessarily** linear"
   ]
  },
  {
   "cell_type": "markdown",
   "metadata": {},
   "source": [
    "- It has been shown that a simple model trained on a good data set will outperform the most complicated model"
   ]
  },
  {
   "cell_type": "markdown",
   "metadata": {},
   "source": [
    "- Since linear models are so fast to run in real time, it is common for a very complicated model to predict the relationships between variables, then a linear model is reverse engineered to apply it"
   ]
  },
  {
   "cell_type": "markdown",
   "metadata": {},
   "source": [
    "- Linear models follow a *supervised algorithm*"
   ]
  },
  {
   "cell_type": "markdown",
   "metadata": {},
   "source": [
    "#### Supervised Algorithm\n",
    "\n",
    "- When we already know what the output of a model should be\n",
    "    - That way, when we have a model, we can compare what it predicted to what actually happened\n",
    "        - The model can then be tweaked to make it more accurate\n",
    "        \n",
    "#### Unsupervised Algorithm\n",
    "\n",
    "- When we don't know what the output should be\n",
    "    - More complicated"
   ]
  }
 ],
 "metadata": {
  "kernelspec": {
   "display_name": "Python 3",
   "language": "python",
   "name": "python3"
  },
  "language_info": {
   "codemirror_mode": {
    "name": "ipython",
    "version": 3
   },
   "file_extension": ".py",
   "mimetype": "text/x-python",
   "name": "python",
   "nbconvert_exporter": "python",
   "pygments_lexer": "ipython3",
   "version": "3.6.5"
  }
 },
 "nbformat": 4,
 "nbformat_minor": 2
}
