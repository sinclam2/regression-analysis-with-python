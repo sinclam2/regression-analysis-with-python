{
 "cells": [
  {
   "cell_type": "markdown",
   "metadata": {},
   "source": [
    "- In this chapter, we'll introduce **classification**\n",
    "    - The **Logistic Regressor** shares the same foundations as the Linear Regressor"
   ]
  },
  {
   "cell_type": "markdown",
   "metadata": {},
   "source": [
    "_____\n",
    "\n",
    "# Defining a classification problem\n",
    "\n",
    "- In the previous chapters, our regression model predicted a **continous** target variable\n",
    "    - Classification, instead, predicts an outcome from a **finite set of possibilities**\n",
    "    \n",
    "- Simplest classification: binary\n",
    "    - E.g. True/False, Non-default/default, etc.\n",
    "        - If the prediction is True, we call it a **positive sample**. Otherwise, it's a **negative sample**"
   ]
  },
  {
   "cell_type": "markdown",
   "metadata": {},
   "source": [
    "### Example binary classification problems\n",
    "\n",
    "- Is this email spam?\n",
    "- Is this house worth more than $200,000\n",
    "- Will the customer open the coupon link in the email?\n",
    "- Is the image of a man or a woman"
   ]
  },
  {
   "cell_type": "markdown",
   "metadata": {},
   "source": [
    "- When there are more than two possible outcomes (i.e. the classification problem isn't binary), we call it a **multiclass classification**"
   ]
  },
  {
   "cell_type": "markdown",
   "metadata": {},
   "source": [
    "### Example multiclass classification problems\n",
    "\n",
    "- What kind of flower is this?\n",
    "- What is the primary topic of the webpage?\n",
    "- Which digit is drawn in the image?"
   ]
  },
  {
   "cell_type": "markdown",
   "metadata": {},
   "source": [
    "____\n",
    "\n",
    "# Formalization of the problem: binary classification\n",
    "\n",
    "- We train our model on the vector $x$ which contains $n$ observations of the $k$ predictor variables and we map it to our outcome vector $y$. The $i^{th}$ observation can be written as:\n",
    "\n",
    "# $(x_{i},y_{i}): x_{i} \\in \\Re^{k}, y_{i} \\in \\{0,1\\}$"
   ]
  },
  {
   "cell_type": "markdown",
   "metadata": {},
   "source": [
    "- Once we've trained our model, we'll have a classifier called a **classification function** of the form:\n",
    "\n",
    "# $f: \\Re^{k} \\rightarrow \\{0,1\\}$"
   ]
  },
  {
   "cell_type": "code",
   "execution_count": null,
   "metadata": {},
   "outputs": [],
   "source": []
  }
 ],
 "metadata": {
  "kernelspec": {
   "display_name": "Python 3",
   "language": "python",
   "name": "python3"
  },
  "language_info": {
   "codemirror_mode": {
    "name": "ipython",
    "version": 3
   },
   "file_extension": ".py",
   "mimetype": "text/x-python",
   "name": "python",
   "nbconvert_exporter": "python",
   "pygments_lexer": "ipython3",
   "version": "3.6.5"
  }
 },
 "nbformat": 4,
 "nbformat_minor": 2
}
