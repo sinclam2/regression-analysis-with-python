{
 "cells": [
  {
   "cell_type": "markdown",
   "metadata": {},
   "source": [
    "- In this chapter, we'll introduce **classification**\n",
    "    - The **Logistic Regressor** shares the same foundations as the Linear Regressor"
   ]
  },
  {
   "cell_type": "markdown",
   "metadata": {},
   "source": [
    "_____\n",
    "\n",
    "# Defining a classification problem\n",
    "\n",
    "- In the previous chapters, our regression model predicted a **continous** target variable\n",
    "    - Classification, instead, predicts an outcome from a **finite set of possibilities**\n",
    "    \n",
    "- Simplest classification: binary\n",
    "    - E.g. True/False, Non-default/default, etc.\n",
    "        - If the prediction is True, we call it a **positive sample**. Otherwise, it's a **negative sample**"
   ]
  },
  {
   "cell_type": "markdown",
   "metadata": {},
   "source": [
    "### Example binary classification problems\n",
    "\n",
    "- Is this email spam?\n",
    "- Is this house worth more than $200,000\n",
    "- Will the customer open the coupon link in the email?\n",
    "- Is the image of a man or a woman"
   ]
  },
  {
   "cell_type": "markdown",
   "metadata": {},
   "source": [
    "- When there are more than two possible outcomes (i.e. the classification problem isn't binary), we call it a **multiclass classification**"
   ]
  },
  {
   "cell_type": "markdown",
   "metadata": {},
   "source": [
    "### Example multiclass classification problems\n",
    "\n",
    "- What kind of flower is this?\n",
    "- What is the primary topic of the webpage?\n",
    "- Which digit is drawn in the image?"
   ]
  },
  {
   "cell_type": "markdown",
   "metadata": {},
   "source": [
    "____\n",
    "\n",
    "# Formalization of the problem: binary classification\n",
    "\n",
    "- We train our model on the vector $x$ which contains $n$ observations of the $k$ predictor variables and we map it to our outcome vector $y$. The $i^{th}$ observation can be written as:\n",
    "\n",
    "# $(x_{i},y_{i}): x_{i} \\in \\Re^{k}, y_{i} \\in \\{0,1\\}$"
   ]
  },
  {
   "cell_type": "markdown",
   "metadata": {},
   "source": [
    "- Once we've trained our model, we'll have a classifier called a **classification function** of the form:\n",
    "\n",
    "# $f: \\Re^{k} \\rightarrow \\{0,1\\}$"
   ]
  },
  {
   "cell_type": "markdown",
   "metadata": {},
   "source": [
    "### Example\n",
    "\n",
    "- The `make_classifier` method from the scikit-learn library creates dummy variables from categorical variables"
   ]
  },
  {
   "cell_type": "code",
   "execution_count": 1,
   "metadata": {},
   "outputs": [],
   "source": [
    "import pandas as pd\n",
    "import numpy as np\n",
    "from sklearn.datasets import make_classification\n",
    "import matplotlib.pyplot as plt\n",
    "%matplotlib inline"
   ]
  },
  {
   "cell_type": "code",
   "execution_count": 2,
   "metadata": {},
   "outputs": [],
   "source": [
    "plt.rcParams['figure.figsize'] = 10, 10"
   ]
  },
  {
   "cell_type": "markdown",
   "metadata": {},
   "source": [
    "- Generating random dataset\n",
    "    - `n_samples` specifies how many observations in the dataset\n",
    "    - `n_features` specifies the number of predictor variables i.e. the number of columns in $X$\n",
    "    - `n_informative` specifies how many of the predictor variables are actually perdictive\n",
    "    - `n_redundnat` specifies how many of the predictor variables don't contribute anything to the predictive power of the model\n",
    "        - As we can see, there are 2 variables total with 2 being informative and 0 being redundant\n",
    "    - `n_clusters_per_class` specifies how many groups we can (roughly) split the data from each variable into\n",
    "        - This will make more sense when plotting the data\n",
    "    - `class_sep` specifies how far apart the clusters will be in the data\n",
    "    - `random_state` locks in the starting position for the random number generator"
   ]
  },
  {
   "cell_type": "code",
   "execution_count": 3,
   "metadata": {},
   "outputs": [],
   "source": [
    "X, y = make_classification(n_samples = 1000,\n",
    "                          n_features = 2,\n",
    "                          n_informative = 2,\n",
    "                          n_redundant = 0,\n",
    "                          n_clusters_per_class = 1,\n",
    "                          class_sep = 2.0, \n",
    "                          random_state = 101)"
   ]
  },
  {
   "cell_type": "code",
   "execution_count": 4,
   "metadata": {},
   "outputs": [],
   "source": [
    "df_data = pd.DataFrame(X, columns = ['Feature 1', 'Feature 2'])\n",
    "df_data['Target'] = y"
   ]
  },
  {
   "cell_type": "code",
   "execution_count": 5,
   "metadata": {},
   "outputs": [
    {
     "data": {
      "text/html": [
       "<div>\n",
       "<style scoped>\n",
       "    .dataframe tbody tr th:only-of-type {\n",
       "        vertical-align: middle;\n",
       "    }\n",
       "\n",
       "    .dataframe tbody tr th {\n",
       "        vertical-align: top;\n",
       "    }\n",
       "\n",
       "    .dataframe thead th {\n",
       "        text-align: right;\n",
       "    }\n",
       "</style>\n",
       "<table border=\"1\" class=\"dataframe\">\n",
       "  <thead>\n",
       "    <tr style=\"text-align: right;\">\n",
       "      <th></th>\n",
       "      <th>Feature 1</th>\n",
       "      <th>Feature 2</th>\n",
       "      <th>Target</th>\n",
       "    </tr>\n",
       "  </thead>\n",
       "  <tbody>\n",
       "    <tr>\n",
       "      <th>0</th>\n",
       "      <td>1.470656</td>\n",
       "      <td>-1.311202</td>\n",
       "      <td>0</td>\n",
       "    </tr>\n",
       "    <tr>\n",
       "      <th>1</th>\n",
       "      <td>-2.377659</td>\n",
       "      <td>-2.096367</td>\n",
       "      <td>1</td>\n",
       "    </tr>\n",
       "    <tr>\n",
       "      <th>2</th>\n",
       "      <td>2.576045</td>\n",
       "      <td>-2.552494</td>\n",
       "      <td>0</td>\n",
       "    </tr>\n",
       "    <tr>\n",
       "      <th>3</th>\n",
       "      <td>1.599512</td>\n",
       "      <td>-0.557330</td>\n",
       "      <td>0</td>\n",
       "    </tr>\n",
       "    <tr>\n",
       "      <th>4</th>\n",
       "      <td>-2.558502</td>\n",
       "      <td>-2.154992</td>\n",
       "      <td>1</td>\n",
       "    </tr>\n",
       "  </tbody>\n",
       "</table>\n",
       "</div>"
      ],
      "text/plain": [
       "   Feature 1  Feature 2  Target\n",
       "0   1.470656  -1.311202       0\n",
       "1  -2.377659  -2.096367       1\n",
       "2   2.576045  -2.552494       0\n",
       "3   1.599512  -0.557330       0\n",
       "4  -2.558502  -2.154992       1"
      ]
     },
     "execution_count": 5,
     "metadata": {},
     "output_type": "execute_result"
    }
   ],
   "source": [
    "df_data.head()"
   ]
  },
  {
   "cell_type": "markdown",
   "metadata": {},
   "source": [
    "- As we can see above, the data contains a column of continous values for the two features, and a binary column for the target"
   ]
  },
  {
   "cell_type": "code",
   "execution_count": 6,
   "metadata": {},
   "outputs": [
    {
     "data": {
      "text/plain": [
       "<matplotlib.collections.PathCollection at 0x1e1f5e259b0>"
      ]
     },
     "execution_count": 6,
     "metadata": {},
     "output_type": "execute_result"
    },
    {
     "data": {
      "image/png": "[encoded data removed]",
      "text/plain": [
       "<Figure size 720x720 with 1 Axes>"
      ]
     },
     "metadata": {},
     "output_type": "display_data"
    }
   ],
   "source": [
    "x_vals = df_data['Feature 1'].values\n",
    "y_vals = df_data['Feature 2'].values\n",
    "colors = df_data['Target'].map(lambda x: 'r' if x==0 else 'g').values\n",
    "plt.scatter(x_vals, y_vals, c = colors)"
   ]
  },
  {
   "cell_type": "markdown",
   "metadata": {},
   "source": [
    "- From the plot above, we can see that the cloud on the left represent the combinations of feature values where the Target had a  value of 1, and the cloud on thr right represents a value of 0"
   ]
  },
  {
   "cell_type": "markdown",
   "metadata": {},
   "source": [
    "_____\n",
    "\n",
    "# Assessing the classifier's performance"
   ]
  },
  {
   "cell_type": "markdown",
   "metadata": {},
   "source": [
    "- To be able to evaluate the performance of the classification function, we need to define some new metrics\n",
    "    - We need to keep in mind that the definition of performance can vary\n",
    "        - Examples\n",
    "            - Percentage of results correctly labeled\n",
    "            - Completeness of a defined label\n",
    "            - Minimization of number of misclassifications\n",
    "                - For example, if we're building a spam filter, we may prefer having some spam mail pass through the filter than risk sending non-spam to the junk mailbox"
   ]
  },
  {
   "cell_type": "markdown",
   "metadata": {},
   "source": [
    "- The metrics we'll describe can be used for both binary and multiclass classification problems\n",
    "\n",
    "___\n",
    "\n",
    "### 1. Confusion Matrix\n",
    "\n",
    "- Although this technically isn't a statistical measure, it's a nice way to visualize the impact of correct and incorrect misclassifications\n",
    "    - Let's create some random target and y-hat values"
   ]
  },
  {
   "cell_type": "code",
   "execution_count": 7,
   "metadata": {},
   "outputs": [],
   "source": [
    "target = [0,0,0,0,0,0,1,1,1,1]\n",
    "y_hat = [0,0,0,0,1,1,1,1,1,0]"
   ]
  },
  {
   "cell_type": "markdown",
   "metadata": {},
   "source": [
    "- Now we'll use the `confusion_matrix` method to build the confusion matrix"
   ]
  },
  {
   "cell_type": "code",
   "execution_count": 8,
   "metadata": {},
   "outputs": [],
   "source": [
    "from sklearn.metrics import confusion_matrix"
   ]
  },
  {
   "cell_type": "code",
   "execution_count": 9,
   "metadata": {},
   "outputs": [
    {
     "data": {
      "text/plain": [
       "array([[4, 2],\n",
       "       [1, 3]], dtype=int64)"
      ]
     },
     "execution_count": 9,
     "metadata": {},
     "output_type": "execute_result"
    }
   ],
   "source": [
    "matrix = confusion_matrix(target, y_hat)\n",
    "matrix"
   ]
  },
  {
   "cell_type": "markdown",
   "metadata": {},
   "source": [
    "- So all we get from this method is the matrix:\n",
    "\n",
    "# $\\begin{bmatrix}4 & 2\\\\ 1 & 3\\end{bmatrix}$"
   ]
  },
  {
   "cell_type": "markdown",
   "metadata": {},
   "source": [
    "### What is this telling us?\n",
    "\n",
    "1. the `target` and `y_hat` lists each have 10 elements\n",
    "    - If we take the sum of each element of the confusion matrix, the total is 10\n",
    "    - This means that it tells us the sample size\n",
    "    \n",
    "2. the sum of the first row is 6\n",
    "    - We note that the number of 0's in the `target` list is also 6\n",
    "    - Similarly, the sum of the second row is equal to the number of 1's in the `target` list\n",
    "    \n",
    "3. like observation 2, but for the columns, the sum of the columns tells us the number of 0's and 1's in the `y_hat` list"
   ]
  },
  {
   "cell_type": "markdown",
   "metadata": {},
   "source": [
    "### As we can already guess, this matrix represents the transitions from the states in `target` to `y_hat` (think Markov processes)"
   ]
  },
  {
   "cell_type": "markdown",
   "metadata": {},
   "source": [
    "#### There are 2 states in the `target` array (0 and 1) and 2 states in the `y_hat` array (also 0 and 1)\n",
    "\n",
    "- Of the six 0 values in the target array, four got mapped to 0 (correctly) and two got mapped to 1 (representing a misclassification)\n",
    "\n",
    "- Of the four 0 values in the target array, one got mapped to 0 (misclassification) and three were mapped to 1 (correct)\n",
    "\n",
    "#### Therefore, the diagonal values in the matrix represent CORRECT classifications, and the non-diagonals represent INCORRECT classifications"
   ]
  },
  {
   "cell_type": "code",
   "execution_count": 10,
   "metadata": {},
   "outputs": [
    {
     "data": {
      "image/png": "[encoded data removed]",
      "text/plain": [
       "<Figure size 720x720 with 2 Axes>"
      ]
     },
     "metadata": {},
     "output_type": "display_data"
    }
   ],
   "source": [
    "plt.matshow(matrix)\n",
    "plt.colorbar()\n",
    "plt.ylabel('Target')\n",
    "plt.xlabel('y_hat')\n",
    "plt.show()"
   ]
  },
  {
   "cell_type": "markdown",
   "metadata": {},
   "source": [
    "___\n",
    "\n",
    "### 2. Accuracy\n",
    "\n",
    "- The classifier's accuracy tells us the proportion of classifications that are correct\n",
    "    - Recall that the matrix diagonals tells us the correct classifications, and sum of the values in the matrix tell us the total number of observations\n",
    "        - Therefore, the accuracy for this classifier is equal to:\n",
    "        \n",
    "# $\\left ( \\text{Accuracy} \\right ) = \\frac{4+3}{10} = 0.7$"
   ]
  },
  {
   "cell_type": "markdown",
   "metadata": {},
   "source": [
    "- There's also a scikit-learn method for performing this calculation"
   ]
  },
  {
   "cell_type": "code",
   "execution_count": 11,
   "metadata": {},
   "outputs": [],
   "source": [
    "from sklearn.metrics import accuracy_score"
   ]
  },
  {
   "cell_type": "code",
   "execution_count": 12,
   "metadata": {},
   "outputs": [
    {
     "data": {
      "text/plain": [
       "0.7"
      ]
     },
     "execution_count": 12,
     "metadata": {},
     "output_type": "execute_result"
    }
   ],
   "source": [
    "accuracy_score(target, y_hat)"
   ]
  },
  {
   "cell_type": "markdown",
   "metadata": {},
   "source": [
    "___\n",
    "\n",
    "### 3. Precision\n",
    "\n",
    "- This value only cares about the 1's in `y_hat`\n",
    "    - What this measure tells us is **how trustworthy our prediction is**\n",
    "        \n",
    "- Therefore, to calculate precision, we take the proportion of the 1's in `y_hat` that were correctly mapped from 1's in `target`\n",
    "    - In other words, we take the bottom right diagonal and divide it by the sum of the second column\n",
    "    \n",
    "# $\\left ( \\text{Precision} \\right ) = \\frac{3}{3+2} = 0.6$"
   ]
  },
  {
   "cell_type": "code",
   "execution_count": 13,
   "metadata": {},
   "outputs": [],
   "source": [
    "from sklearn.metrics import precision_score"
   ]
  },
  {
   "cell_type": "code",
   "execution_count": 14,
   "metadata": {},
   "outputs": [
    {
     "data": {
      "text/plain": [
       "0.6"
      ]
     },
     "execution_count": 14,
     "metadata": {},
     "output_type": "execute_result"
    }
   ],
   "source": [
    "precision_score(target, y_hat)"
   ]
  },
  {
   "cell_type": "markdown",
   "metadata": {},
   "source": [
    "_____\n",
    "\n",
    "### 4. Recall"
   ]
  },
  {
   "cell_type": "markdown",
   "metadata": {},
   "source": [
    "- **Precision**: we predicted that an event DID occur. How confident can we be in this prediction?\n",
    "\n",
    "- **Recall**: an event DID occur. How likely is it that we predicted that it did?\n",
    "\n",
    "- Therefore, precision looks at where we predicted a value of 1 in `y_hat` and tells us how many were correct while recall looks at the 1 values in `target` and tells us **how many we got right**"
   ]
  },
  {
   "cell_type": "markdown",
   "metadata": {},
   "source": [
    "- So, we can calculate the recall of the model as the ratio of the value in the bottom right corner of the matrix to the sum of the values in the bottom row i.e.\n",
    "\n",
    "# $\\left ( \\text{Recall} \\right ) = \\frac{3}{4} = 0.75$"
   ]
  },
  {
   "cell_type": "markdown",
   "metadata": {},
   "source": [
    "- There's also a simple scikitlearn metric for calculating this"
   ]
  },
  {
   "cell_type": "code",
   "execution_count": 15,
   "metadata": {},
   "outputs": [],
   "source": [
    "from sklearn.metrics import recall_score"
   ]
  },
  {
   "cell_type": "code",
   "execution_count": 16,
   "metadata": {},
   "outputs": [
    {
     "data": {
      "text/plain": [
       "0.75"
      ]
     },
     "execution_count": 16,
     "metadata": {},
     "output_type": "execute_result"
    }
   ],
   "source": [
    "recall_score(target, y_hat)"
   ]
  },
  {
   "cell_type": "markdown",
   "metadata": {},
   "source": [
    "____\n",
    "\n",
    "### 5. Comprehensive f1 score"
   ]
  },
  {
   "cell_type": "markdown",
   "metadata": {},
   "source": [
    "- Precision and recall tell us how well the classifier is performing for identifying positive events\n",
    "    - The comprehensive f1 score combines these metrics using the harmonic average\n",
    "    \n",
    "# $f1 = 2 \\cdot \\frac{Precision \\cdot Recall}{Precision + Recall} = 2 \\cdot \\frac{(3/5)\\cdot(3/4)}{3/5 + 3/4} = 2\\cdot(9/27) = 2/3 = 0.667$"
   ]
  },
  {
   "cell_type": "code",
   "execution_count": 17,
   "metadata": {},
   "outputs": [],
   "source": [
    "from sklearn.metrics import f1_score"
   ]
  },
  {
   "cell_type": "code",
   "execution_count": 18,
   "metadata": {},
   "outputs": [
    {
     "data": {
      "text/plain": [
       "0.6666666666666665"
      ]
     },
     "execution_count": 18,
     "metadata": {},
     "output_type": "execute_result"
    }
   ],
   "source": [
    "f1_score(target, y_hat)"
   ]
  },
  {
   "cell_type": "markdown",
   "metadata": {},
   "source": [
    "____\n",
    "\n",
    "### Summary of metrics\n",
    "\n",
    "- We have all these different statistical measures of the classifier\n",
    "    - **Which is the best to use?**\n",
    "        - **ANSWER:** all of them!"
   ]
  },
  {
   "cell_type": "code",
   "execution_count": 19,
   "metadata": {},
   "outputs": [],
   "source": [
    "from sklearn.metrics import classification_report"
   ]
  },
  {
   "cell_type": "code",
   "execution_count": 20,
   "metadata": {},
   "outputs": [
    {
     "name": "stdout",
     "output_type": "stream",
     "text": [
      "             precision    recall  f1-score   support\n",
      "\n",
      "          0       0.80      0.67      0.73         6\n",
      "          1       0.60      0.75      0.67         4\n",
      "\n",
      "avg / total       0.72      0.70      0.70        10\n",
      "\n"
     ]
    }
   ],
   "source": [
    "print(classification_report(target, y_hat))"
   ]
  },
  {
   "cell_type": "markdown",
   "metadata": {},
   "source": [
    "_____\n",
    "\n",
    "# Defining a probability based approach\n",
    "\n",
    "- When we think about logistic regression, we have to take a feature vector, and derive the function that maximizes the following conditional probability:\n",
    "\n",
    "# $P(y_{i} = 1 | f(X_{i})=1)$\n"
   ]
  },
  {
   "cell_type": "markdown",
   "metadata": {},
   "source": [
    "- We'll use the data from earlier (green and red scatter plots) to build this model, but we'll need to do two things first:\n",
    "    - Split the data into a training set, and a testing set\n",
    "        - **Why?**\n",
    "            - That way, we'll build a model on a subset of the data, then test its accuracy on the rest of the data\n",
    "    - Convert the target values to floating point values\n",
    "        - **Why?**\n",
    "            - That way, we can use the regular regression methods"
   ]
  },
  {
   "cell_type": "code",
   "execution_count": 21,
   "metadata": {},
   "outputs": [],
   "source": [
    "from sklearn.model_selection import train_test_split"
   ]
  },
  {
   "cell_type": "code",
   "execution_count": 22,
   "metadata": {},
   "outputs": [],
   "source": [
    "X_train, X_test, y_train, y_test = train_test_split(X, y.astype(float), test_size = 0.33, random_state = 101)"
   ]
  },
  {
   "cell_type": "markdown",
   "metadata": {},
   "source": [
    "- Now we can perform the regression like a regular simple multiple regression"
   ]
  },
  {
   "cell_type": "code",
   "execution_count": 23,
   "metadata": {},
   "outputs": [],
   "source": [
    "from sklearn.linear_model import LinearRegression"
   ]
  },
  {
   "cell_type": "code",
   "execution_count": 24,
   "metadata": {},
   "outputs": [],
   "source": [
    "model = LinearRegression()"
   ]
  },
  {
   "cell_type": "code",
   "execution_count": 25,
   "metadata": {},
   "outputs": [
    {
     "data": {
      "text/plain": [
       "LinearRegression(copy_X=True, fit_intercept=True, n_jobs=1, normalize=False)"
      ]
     },
     "execution_count": 25,
     "metadata": {},
     "output_type": "execute_result"
    }
   ],
   "source": [
    "model.fit(X_train, y_train)"
   ]
  },
  {
   "cell_type": "code",
   "execution_count": 26,
   "metadata": {},
   "outputs": [
    {
     "data": {
      "image/png": "[encoded data removed]",
      "text/plain": [
       "<Figure size 720x720 with 1 Axes>"
      ]
     },
     "metadata": {},
     "output_type": "display_data"
    }
   ],
   "source": [
    "plt.hist(model.predict(X_test), bins = 100)\n",
    "plt.axvline(0, ls = 'dashed', c = 'r')\n",
    "plt.axvline(1, ls = 'dashed', c = 'r')\n",
    "plt.show()"
   ]
  },
  {
   "cell_type": "markdown",
   "metadata": {},
   "source": [
    "### So, the $\\hat{y}$ values produced by our model tells us the probability that the target variable is equal to 1\n",
    "\n",
    "#### I.e. if the value is 0.2, the model thinks there's a greater chance that the target variable has a value of 0 than 1\n",
    "\n",
    "### But why do we have negative values? And values greater than 1?\n",
    "\n",
    "- We know that probabilities must be between 0 and 1\n",
    "    - We could fix this by mapping all negative values to 0 and all values greater than 1 to 1"
   ]
  },
  {
   "cell_type": "code",
   "execution_count": 27,
   "metadata": {},
   "outputs": [
    {
     "data": {
      "image/png": "[encoded data removed]",
      "text/plain": [
       "<Figure size 720x720 with 1 Axes>"
      ]
     },
     "metadata": {},
     "output_type": "display_data"
    }
   ],
   "source": [
    "plt.hist(np.maximum(np.minimum(model.predict(X_test), 1),0), bins = 100)\n",
    "plt.axvline(0, ls = 'dashed', c = 'r')\n",
    "plt.axvline(1, ls = 'dashed', c = 'r')\n",
    "plt.show()"
   ]
  },
  {
   "cell_type": "markdown",
   "metadata": {},
   "source": [
    "### This seems to have solved our problem, but we can still do better"
   ]
  },
  {
   "cell_type": "markdown",
   "metadata": {},
   "source": [
    "### Recall:\n",
    "\n",
    "- In the previous chapter, our array of $\\beta$ coefficients was denoted $w$ and we calculated $\\hat{y}$ as:\n",
    "\n",
    "# $\\hat{y} = X \\cdot w$"
   ]
  },
  {
   "cell_type": "markdown",
   "metadata": {},
   "source": [
    "### To get our new model to work, we'll use a [*Sigmoid Function*](https://en.wikipedia.org/wiki/Sigmoid_function)\n",
    "\n",
    "- Sigmoid functions take values between $-\\infty$ and $+\\infty$ and map them to values between 0 and 1"
   ]
  },
  {
   "cell_type": "markdown",
   "metadata": {},
   "source": [
    "### We derive our probabilities using the following function:\n",
    "\n",
    "# $\\hat{y} = \\sigma\\left (W^{T}\\cdot x \\right )$"
   ]
  },
  {
   "cell_type": "markdown",
   "metadata": {},
   "source": [
    "### Where $\\sigma$ is called the logistic function (aka inverse logit function) defined as:\n",
    "\n",
    "# $\\sigma (t) = \\frac{1}{1 + e^{-t}}$"
   ]
  },
  {
   "cell_type": "markdown",
   "metadata": {},
   "source": [
    "- Why do we use this function?\n",
    "    - At $t=0$, $\\sigma(0) = 1/2 = 0.5$ which satisfies our condition for modelling binary variables\n",
    "    - At $t = -\\infty$, $\\sigma(-\\infty) = \\frac{1}{1+e^{\\infty}} = 0$ and at $t=\\infty$, $\\sigma(\\infty) = \\frac{1}{1+e^{-\\infty}} = 1$\n",
    "        - **Therefore $\\sigma$ is symmetric arount 0.5 and is always between 0 and 1**\n",
    "            - This is exactly what we need"
   ]
  },
  {
   "cell_type": "code",
   "execution_count": 31,
   "metadata": {},
   "outputs": [
    {
     "data": {
      "image/png": "[encoded data removed]",
      "text/plain": [
       "<Figure size 720x720 with 1 Axes>"
      ]
     },
     "metadata": {},
     "output_type": "display_data"
    }
   ],
   "source": [
    "x = np.arange(-6, 6, 0.1)\n",
    "y = 1/(1+np.exp(-x))\n",
    "plt.plot(x, y)\n",
    "plt.title('Sigmoid Function')\n",
    "plt.axvline(0, ls = 'dashed', c = 'r')\n",
    "plt.axhline(0.5, ls = 'dashed', c = 'r')\n",
    "plt.axhline(0, ls = 'dashed', c = 'g')\n",
    "plt.axhline(1, ls = 'dashed', c = 'g')\n",
    "plt.show()"
   ]
  }
 ],
 "metadata": {
  "kernelspec": {
   "display_name": "Python 3",
   "language": "python",
   "name": "python3"
  },
  "language_info": {
   "codemirror_mode": {
    "name": "ipython",
    "version": 3
   },
   "file_extension": ".py",
   "mimetype": "text/x-python",
   "name": "python",
   "nbconvert_exporter": "python",
   "pygments_lexer": "ipython3",
   "version": "3.6.5"
  }
 },
 "nbformat": 4,
 "nbformat_minor": 2
}
